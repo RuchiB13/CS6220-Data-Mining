{
  "nbformat": 4,
  "nbformat_minor": 0,
  "metadata": {
    "colab": {
      "name": "DMAssignment-9.ipynb",
      "provenance": []
    },
    "kernelspec": {
      "name": "python3",
      "display_name": "Python 3"
    },
    "language_info": {
      "name": "python"
    }
  },
  "cells": [
    {
      "cell_type": "code",
      "source": [
        "#Ruchi Bhavsar\n",
        "\n",
        "import pandas as pd\n",
        "from IPython.display import display\n",
        "from graphviz import Source\n",
        "from sklearn.metrics import roc_curve\n",
        "from sklearn.metrics import precision_recall_curve\n",
        "import matplotlib.pyplot as plt\n",
        "from sklearn import tree\n",
        "from sklearn.metrics import precision_score,recall_score,accuracy_score,confusion_matrix,roc_curve,classification_report\n",
        "from sklearn.tree import DecisionTreeClassifier\n",
        "from sklearn.model_selection import train_test_split"
      ],
      "metadata": {
        "id": "EhOBkNEjJbIV"
      },
      "execution_count": 30,
      "outputs": []
    },
    {
      "cell_type": "code",
      "execution_count": 31,
      "metadata": {
        "colab": {
          "base_uri": "https://localhost:8080/",
          "height": 260
        },
        "id": "yhVg1BmnJHxf",
        "outputId": "53127e38-9229-4512-fd18-47a441d3e6ee"
      },
      "outputs": [
        {
          "output_type": "display_data",
          "data": {
            "text/plain": [
              "   0  0.99539  -0.05889  0.85243  0.02306  0.83398  -0.37708      1.1  \\\n",
              "1                                                                       \n",
              "1  0  1.00000  -0.18829  0.93035 -0.36156 -0.10868  -0.93597  1.00000   \n",
              "1  0  1.00000  -0.03365  1.00000  0.00485  1.00000  -0.12062  0.88965   \n",
              "1  0  1.00000  -0.45161  1.00000  1.00000  0.71216  -1.00000  0.00000   \n",
              "1  0  1.00000  -0.02401  0.94140  0.06531  0.92106  -0.23255  0.77152   \n",
              "1  0  0.02337  -0.00592 -0.09924 -0.11949 -0.00763  -0.11824  0.14706   \n",
              "\n",
              "   0.03760  0.85243.1  ...  -0.51171  0.41078  -0.46168  0.21266  -0.34090  \\\n",
              "1                      ...                                                   \n",
              "1 -0.04549    0.50874  ...  -0.26569 -0.20468  -0.18401 -0.19040  -0.11593   \n",
              "1  0.01198    0.73082  ...  -0.40220  0.58984  -0.22145  0.43100  -0.17365   \n",
              "1  0.00000    0.00000  ...   0.90695  0.51613   1.00000  1.00000  -0.20099   \n",
              "1 -0.16399    0.52798  ...  -0.65158  0.13290  -0.53206  0.02431  -0.62197   \n",
              "1  0.06637    0.03786  ...  -0.01535 -0.03240   0.09223 -0.07859   0.00732   \n",
              "\n",
              "   0.42267  -0.54487  0.18641  -0.45300  g  \n",
              "1                                           \n",
              "1 -0.16626  -0.06288 -0.13738  -0.02447  b  \n",
              "1  0.60436  -0.24180  0.56045  -0.38238  g  \n",
              "1  0.25682   1.00000 -0.32382   1.00000  b  \n",
              "1 -0.05707  -0.59573 -0.04608  -0.65697  g  \n",
              "1  0.00000   0.00000 -0.00039   0.12011  b  \n",
              "\n",
              "[5 rows x 34 columns]"
            ],
            "text/html": [
              "\n",
              "  <div id=\"df-8c39e960-76ce-459b-8f7c-b14cc35d2685\">\n",
              "    <div class=\"colab-df-container\">\n",
              "      <div>\n",
              "<style scoped>\n",
              "    .dataframe tbody tr th:only-of-type {\n",
              "        vertical-align: middle;\n",
              "    }\n",
              "\n",
              "    .dataframe tbody tr th {\n",
              "        vertical-align: top;\n",
              "    }\n",
              "\n",
              "    .dataframe thead th {\n",
              "        text-align: right;\n",
              "    }\n",
              "</style>\n",
              "<table border=\"1\" class=\"dataframe\">\n",
              "  <thead>\n",
              "    <tr style=\"text-align: right;\">\n",
              "      <th></th>\n",
              "      <th>0</th>\n",
              "      <th>0.99539</th>\n",
              "      <th>-0.05889</th>\n",
              "      <th>0.85243</th>\n",
              "      <th>0.02306</th>\n",
              "      <th>0.83398</th>\n",
              "      <th>-0.37708</th>\n",
              "      <th>1.1</th>\n",
              "      <th>0.03760</th>\n",
              "      <th>0.85243.1</th>\n",
              "      <th>...</th>\n",
              "      <th>-0.51171</th>\n",
              "      <th>0.41078</th>\n",
              "      <th>-0.46168</th>\n",
              "      <th>0.21266</th>\n",
              "      <th>-0.34090</th>\n",
              "      <th>0.42267</th>\n",
              "      <th>-0.54487</th>\n",
              "      <th>0.18641</th>\n",
              "      <th>-0.45300</th>\n",
              "      <th>g</th>\n",
              "    </tr>\n",
              "    <tr>\n",
              "      <th>1</th>\n",
              "      <th></th>\n",
              "      <th></th>\n",
              "      <th></th>\n",
              "      <th></th>\n",
              "      <th></th>\n",
              "      <th></th>\n",
              "      <th></th>\n",
              "      <th></th>\n",
              "      <th></th>\n",
              "      <th></th>\n",
              "      <th></th>\n",
              "      <th></th>\n",
              "      <th></th>\n",
              "      <th></th>\n",
              "      <th></th>\n",
              "      <th></th>\n",
              "      <th></th>\n",
              "      <th></th>\n",
              "      <th></th>\n",
              "      <th></th>\n",
              "      <th></th>\n",
              "    </tr>\n",
              "  </thead>\n",
              "  <tbody>\n",
              "    <tr>\n",
              "      <th>1</th>\n",
              "      <td>0</td>\n",
              "      <td>1.00000</td>\n",
              "      <td>-0.18829</td>\n",
              "      <td>0.93035</td>\n",
              "      <td>-0.36156</td>\n",
              "      <td>-0.10868</td>\n",
              "      <td>-0.93597</td>\n",
              "      <td>1.00000</td>\n",
              "      <td>-0.04549</td>\n",
              "      <td>0.50874</td>\n",
              "      <td>...</td>\n",
              "      <td>-0.26569</td>\n",
              "      <td>-0.20468</td>\n",
              "      <td>-0.18401</td>\n",
              "      <td>-0.19040</td>\n",
              "      <td>-0.11593</td>\n",
              "      <td>-0.16626</td>\n",
              "      <td>-0.06288</td>\n",
              "      <td>-0.13738</td>\n",
              "      <td>-0.02447</td>\n",
              "      <td>b</td>\n",
              "    </tr>\n",
              "    <tr>\n",
              "      <th>1</th>\n",
              "      <td>0</td>\n",
              "      <td>1.00000</td>\n",
              "      <td>-0.03365</td>\n",
              "      <td>1.00000</td>\n",
              "      <td>0.00485</td>\n",
              "      <td>1.00000</td>\n",
              "      <td>-0.12062</td>\n",
              "      <td>0.88965</td>\n",
              "      <td>0.01198</td>\n",
              "      <td>0.73082</td>\n",
              "      <td>...</td>\n",
              "      <td>-0.40220</td>\n",
              "      <td>0.58984</td>\n",
              "      <td>-0.22145</td>\n",
              "      <td>0.43100</td>\n",
              "      <td>-0.17365</td>\n",
              "      <td>0.60436</td>\n",
              "      <td>-0.24180</td>\n",
              "      <td>0.56045</td>\n",
              "      <td>-0.38238</td>\n",
              "      <td>g</td>\n",
              "    </tr>\n",
              "    <tr>\n",
              "      <th>1</th>\n",
              "      <td>0</td>\n",
              "      <td>1.00000</td>\n",
              "      <td>-0.45161</td>\n",
              "      <td>1.00000</td>\n",
              "      <td>1.00000</td>\n",
              "      <td>0.71216</td>\n",
              "      <td>-1.00000</td>\n",
              "      <td>0.00000</td>\n",
              "      <td>0.00000</td>\n",
              "      <td>0.00000</td>\n",
              "      <td>...</td>\n",
              "      <td>0.90695</td>\n",
              "      <td>0.51613</td>\n",
              "      <td>1.00000</td>\n",
              "      <td>1.00000</td>\n",
              "      <td>-0.20099</td>\n",
              "      <td>0.25682</td>\n",
              "      <td>1.00000</td>\n",
              "      <td>-0.32382</td>\n",
              "      <td>1.00000</td>\n",
              "      <td>b</td>\n",
              "    </tr>\n",
              "    <tr>\n",
              "      <th>1</th>\n",
              "      <td>0</td>\n",
              "      <td>1.00000</td>\n",
              "      <td>-0.02401</td>\n",
              "      <td>0.94140</td>\n",
              "      <td>0.06531</td>\n",
              "      <td>0.92106</td>\n",
              "      <td>-0.23255</td>\n",
              "      <td>0.77152</td>\n",
              "      <td>-0.16399</td>\n",
              "      <td>0.52798</td>\n",
              "      <td>...</td>\n",
              "      <td>-0.65158</td>\n",
              "      <td>0.13290</td>\n",
              "      <td>-0.53206</td>\n",
              "      <td>0.02431</td>\n",
              "      <td>-0.62197</td>\n",
              "      <td>-0.05707</td>\n",
              "      <td>-0.59573</td>\n",
              "      <td>-0.04608</td>\n",
              "      <td>-0.65697</td>\n",
              "      <td>g</td>\n",
              "    </tr>\n",
              "    <tr>\n",
              "      <th>1</th>\n",
              "      <td>0</td>\n",
              "      <td>0.02337</td>\n",
              "      <td>-0.00592</td>\n",
              "      <td>-0.09924</td>\n",
              "      <td>-0.11949</td>\n",
              "      <td>-0.00763</td>\n",
              "      <td>-0.11824</td>\n",
              "      <td>0.14706</td>\n",
              "      <td>0.06637</td>\n",
              "      <td>0.03786</td>\n",
              "      <td>...</td>\n",
              "      <td>-0.01535</td>\n",
              "      <td>-0.03240</td>\n",
              "      <td>0.09223</td>\n",
              "      <td>-0.07859</td>\n",
              "      <td>0.00732</td>\n",
              "      <td>0.00000</td>\n",
              "      <td>0.00000</td>\n",
              "      <td>-0.00039</td>\n",
              "      <td>0.12011</td>\n",
              "      <td>b</td>\n",
              "    </tr>\n",
              "  </tbody>\n",
              "</table>\n",
              "<p>5 rows × 34 columns</p>\n",
              "</div>\n",
              "      <button class=\"colab-df-convert\" onclick=\"convertToInteractive('df-8c39e960-76ce-459b-8f7c-b14cc35d2685')\"\n",
              "              title=\"Convert this dataframe to an interactive table.\"\n",
              "              style=\"display:none;\">\n",
              "        \n",
              "  <svg xmlns=\"http://www.w3.org/2000/svg\" height=\"24px\"viewBox=\"0 0 24 24\"\n",
              "       width=\"24px\">\n",
              "    <path d=\"M0 0h24v24H0V0z\" fill=\"none\"/>\n",
              "    <path d=\"M18.56 5.44l.94 2.06.94-2.06 2.06-.94-2.06-.94-.94-2.06-.94 2.06-2.06.94zm-11 1L8.5 8.5l.94-2.06 2.06-.94-2.06-.94L8.5 2.5l-.94 2.06-2.06.94zm10 10l.94 2.06.94-2.06 2.06-.94-2.06-.94-.94-2.06-.94 2.06-2.06.94z\"/><path d=\"M17.41 7.96l-1.37-1.37c-.4-.4-.92-.59-1.43-.59-.52 0-1.04.2-1.43.59L10.3 9.45l-7.72 7.72c-.78.78-.78 2.05 0 2.83L4 21.41c.39.39.9.59 1.41.59.51 0 1.02-.2 1.41-.59l7.78-7.78 2.81-2.81c.8-.78.8-2.07 0-2.86zM5.41 20L4 18.59l7.72-7.72 1.47 1.35L5.41 20z\"/>\n",
              "  </svg>\n",
              "      </button>\n",
              "      \n",
              "  <style>\n",
              "    .colab-df-container {\n",
              "      display:flex;\n",
              "      flex-wrap:wrap;\n",
              "      gap: 12px;\n",
              "    }\n",
              "\n",
              "    .colab-df-convert {\n",
              "      background-color: #E8F0FE;\n",
              "      border: none;\n",
              "      border-radius: 50%;\n",
              "      cursor: pointer;\n",
              "      display: none;\n",
              "      fill: #1967D2;\n",
              "      height: 32px;\n",
              "      padding: 0 0 0 0;\n",
              "      width: 32px;\n",
              "    }\n",
              "\n",
              "    .colab-df-convert:hover {\n",
              "      background-color: #E2EBFA;\n",
              "      box-shadow: 0px 1px 2px rgba(60, 64, 67, 0.3), 0px 1px 3px 1px rgba(60, 64, 67, 0.15);\n",
              "      fill: #174EA6;\n",
              "    }\n",
              "\n",
              "    [theme=dark] .colab-df-convert {\n",
              "      background-color: #3B4455;\n",
              "      fill: #D2E3FC;\n",
              "    }\n",
              "\n",
              "    [theme=dark] .colab-df-convert:hover {\n",
              "      background-color: #434B5C;\n",
              "      box-shadow: 0px 1px 3px 1px rgba(0, 0, 0, 0.15);\n",
              "      filter: drop-shadow(0px 1px 2px rgba(0, 0, 0, 0.3));\n",
              "      fill: #FFFFFF;\n",
              "    }\n",
              "  </style>\n",
              "\n",
              "      <script>\n",
              "        const buttonEl =\n",
              "          document.querySelector('#df-8c39e960-76ce-459b-8f7c-b14cc35d2685 button.colab-df-convert');\n",
              "        buttonEl.style.display =\n",
              "          google.colab.kernel.accessAllowed ? 'block' : 'none';\n",
              "\n",
              "        async function convertToInteractive(key) {\n",
              "          const element = document.querySelector('#df-8c39e960-76ce-459b-8f7c-b14cc35d2685');\n",
              "          const dataTable =\n",
              "            await google.colab.kernel.invokeFunction('convertToInteractive',\n",
              "                                                     [key], {});\n",
              "          if (!dataTable) return;\n",
              "\n",
              "          const docLinkHtml = 'Like what you see? Visit the ' +\n",
              "            '<a target=\"_blank\" href=https://colab.research.google.com/notebooks/data_table.ipynb>data table notebook</a>'\n",
              "            + ' to learn more about interactive tables.';\n",
              "          element.innerHTML = '';\n",
              "          dataTable['output_type'] = 'display_data';\n",
              "          await google.colab.output.renderOutput(dataTable, element);\n",
              "          const docLink = document.createElement('div');\n",
              "          docLink.innerHTML = docLinkHtml;\n",
              "          element.appendChild(docLink);\n",
              "        }\n",
              "      </script>\n",
              "    </div>\n",
              "  </div>\n",
              "  "
            ]
          },
          "metadata": {}
        }
      ],
      "source": [
        "ion = pd.read_csv('/content/ionosphere.data', index_col=0)\n",
        "display(ion.head())"
      ]
    },
    {
      "cell_type": "code",
      "source": [
        "df = pd.DataFrame(ion)\n",
        "df['Class'] = df['g'].map({'g': 0, 'b': 1})\n",
        "data = df.drop('g', axis = 1)"
      ],
      "metadata": {
        "id": "nz3a28sGKPYP"
      },
      "execution_count": 32,
      "outputs": []
    },
    {
      "cell_type": "code",
      "source": [
        ""
      ],
      "metadata": {
        "id": "wU0vWkDcO8To"
      },
      "execution_count": 32,
      "outputs": []
    },
    {
      "cell_type": "code",
      "source": [
        "#1: Split the dataset into 80/20\n",
        "\n",
        "X = data.drop('Class', axis = 1)\n",
        "y = data['Class']\n",
        "X_train, X_test, y_train, y_test = train_test_split(X, y, test_size=0.2, random_state=42)"
      ],
      "metadata": {
        "id": "SFBjze4OK9Cu"
      },
      "execution_count": 33,
      "outputs": []
    },
    {
      "cell_type": "code",
      "source": [
        "# DecisionTreeClassifier\n",
        "\n",
        "dtc = DecisionTreeClassifier(max_depth=6, min_samples_leaf=6, min_samples_split=10)\n",
        "dtc.fit(X_train,y_train)\n",
        "y_train_pred = dtc.predict(X_train)\n",
        "pred = dtc.predict(X_test)"
      ],
      "metadata": {
        "id": "G_6Uo1L7LGP8"
      },
      "execution_count": 34,
      "outputs": []
    },
    {
      "cell_type": "code",
      "source": [
        "# Evaluation Metrics\n",
        "\n",
        "print('Accuracy : ', accuracy_score(y_test, pred))\n",
        "print('\\nPrecision : ', precision_score(y_test, pred))\n",
        "print('\\nRecall:  ',recall_score(y_test, pred))\n",
        "print('\\nClassification Report : \\n',classification_report(y_test, pred))\n",
        "print('Confusion Matrix : \\n',confusion_matrix(y_test, pred))\n"
      ],
      "metadata": {
        "id": "j9pi1TLJP4PB",
        "colab": {
          "base_uri": "https://localhost:8080/"
        },
        "outputId": "faa6cafc-3e69-4f11-920f-cd0522fed762"
      },
      "execution_count": 35,
      "outputs": [
        {
          "output_type": "stream",
          "name": "stdout",
          "text": [
            "Accuracy :  0.8571428571428571\n",
            "\n",
            "Precision :  0.8333333333333334\n",
            "\n",
            "Recall:   0.7692307692307693\n",
            "\n",
            "Classification Report : \n",
            "               precision    recall  f1-score   support\n",
            "\n",
            "           0       0.87      0.91      0.89        44\n",
            "           1       0.83      0.77      0.80        26\n",
            "\n",
            "    accuracy                           0.86        70\n",
            "   macro avg       0.85      0.84      0.84        70\n",
            "weighted avg       0.86      0.86      0.86        70\n",
            "\n",
            "Confusion Matrix : \n",
            " [[40  4]\n",
            " [ 6 20]]\n"
          ]
        }
      ]
    },
    {
      "cell_type": "code",
      "source": [
        "fpr, tpr, thr1 = roc_curve(y_test, pred)\n",
        "pre, rec, thr2 = precision_recall_curve(y_test, pred)\n",
        "\n",
        "print(\"ROC CURVE\")\n",
        "plt.figure()\n",
        "plt.subplot(2,1,1)\n",
        "plt.plot(fpr, tpr)\n",
        "plt.xlabel('False Positive Rate')\n",
        "plt.ylabel('True Positive Rate')\n",
        "plt.show()\n",
        "\n",
        "print(\"\\n PRECISION/RECALL CURVE\")\n",
        "plt.figure()\n",
        "plt.subplot(2,1,2)\n",
        "plt.step(rec, pre)\n",
        "plt.xlabel('Recall')\n",
        "plt.ylabel('Precision')\n",
        "plt.show()\n",
        "\n",
        "graph = Source(tree.export_graphviz(dtc, out_file=None, class_names=['good','bad'], impurity=False,filled=True))"
      ],
      "metadata": {
        "colab": {
          "base_uri": "https://localhost:8080/",
          "height": 352
        },
        "id": "_S9ap0mYTOnl",
        "outputId": "b8a052a4-d173-4666-f1e4-be0af8b8fd95"
      },
      "execution_count": 36,
      "outputs": [
        {
          "output_type": "stream",
          "name": "stdout",
          "text": [
            "ROC CURVE\n"
          ]
        },
        {
          "output_type": "display_data",
          "data": {
            "text/plain": [
              "<Figure size 432x288 with 1 Axes>"
            ],
            "image/png": "[encoded data removed]"
          },
          "metadata": {
            "needs_background": "light"
          }
        },
        {
          "output_type": "stream",
          "name": "stdout",
          "text": [
            "\n",
            " PRECISION/RECALL CURVE\n"
          ]
        },
        {
          "output_type": "display_data",
          "data": {
            "text/plain": [
              "<Figure size 432x288 with 1 Axes>"
            ],
            "image/png": "[encoded data removed]"
          },
          "metadata": {
            "needs_background": "light"
          }
        }
      ]
    },
    {
      "cell_type": "code",
      "source": [
        "graph"
      ],
      "metadata": {
        "colab": {
          "base_uri": "https://localhost:8080/",
          "height": 932
        },
        "id": "wxREdijCRXKz",
        "outputId": "de73ebd1-8e13-4b06-c593-fca6fa50a66d"
      },
      "execution_count": 37,
      "outputs": [
        {
          "output_type": "execute_result",
          "data": {
            "text/plain": [
              "<graphviz.files.Source at 0x7f70c0dcd090>"
            ],
            "image/svg+xml": "<?xml version=\"1.0\" encoding=\"UTF-8\" standalone=\"no\"?>\n<!DOCTYPE svg PUBLIC \"-//W3C//DTD SVG 1.1//EN\"\n \"http://www.w3.org/Graphics/SVG/1.1/DTD/svg11.dtd\">\n<!-- Generated by graphviz version 2.40.1 (20161225.0304)\n -->\n<!-- Title: Tree Pages: 1 -->\n<svg width=\"861pt\" height=\"685pt\"\n viewBox=\"0.00 0.00 861.00 685.00\" xmlns=\"http://www.w3.org/2000/svg\" xmlns:xlink=\"http://www.w3.org/1999/xlink\">\n<g id=\"graph0\" class=\"graph\" transform=\"scale(1 1) rotate(0) translate(4 681)\">\n<title>Tree</title>\n<polygon fill=\"#ffffff\" stroke=\"transparent\" points=\"-4,4 -4,-681 857,-681 857,4 -4,4\"/>\n<!-- 0 -->\n<g id=\"node1\" class=\"node\">\n<title>0</title>\n<polygon fill=\"#f3c7a7\" stroke=\"#000000\" points=\"306.5,-677 174.5,-677 174.5,-609 306.5,-609 306.5,-677\"/>\n<text text-anchor=\"middle\" x=\"240.5\" y=\"-661.8\" font-family=\"Helvetica,sans-Serif\" font-size=\"14.00\" fill=\"#000000\">X[3] &lt;= 0.232</text>\n<text text-anchor=\"middle\" x=\"240.5\" y=\"-646.8\" font-family=\"Helvetica,sans-Serif\" font-size=\"14.00\" fill=\"#000000\">samples = 280</text>\n<text text-anchor=\"middle\" x=\"240.5\" y=\"-631.8\" font-family=\"Helvetica,sans-Serif\" font-size=\"14.00\" fill=\"#000000\">value = [180, 100]</text>\n<text text-anchor=\"middle\" x=\"240.5\" y=\"-616.8\" font-family=\"Helvetica,sans-Serif\" font-size=\"14.00\" fill=\"#000000\">class = good</text>\n</g>\n<!-- 1 -->\n<g id=\"node2\" class=\"node\">\n<title>1</title>\n<polygon fill=\"#40a0e6\" stroke=\"#000000\" points=\"227,-573 120,-573 120,-505 227,-505 227,-573\"/>\n<text text-anchor=\"middle\" x=\"173.5\" y=\"-557.8\" font-family=\"Helvetica,sans-Serif\" font-size=\"14.00\" fill=\"#000000\">X[3] &lt;= 0.052</text>\n<text text-anchor=\"middle\" x=\"173.5\" y=\"-542.8\" font-family=\"Helvetica,sans-Serif\" font-size=\"14.00\" fill=\"#000000\">samples = 60</text>\n<text text-anchor=\"middle\" x=\"173.5\" y=\"-527.8\" font-family=\"Helvetica,sans-Serif\" font-size=\"14.00\" fill=\"#000000\">value = [2, 58]</text>\n<text text-anchor=\"middle\" x=\"173.5\" y=\"-512.8\" font-family=\"Helvetica,sans-Serif\" font-size=\"14.00\" fill=\"#000000\">class = bad</text>\n</g>\n<!-- 0&#45;&gt;1 -->\n<g id=\"edge1\" class=\"edge\">\n<title>0&#45;&gt;1</title>\n<path fill=\"none\" stroke=\"#000000\" d=\"M218.5617,-608.9465C212.951,-600.2373 206.8471,-590.7626 200.9958,-581.6801\"/>\n<polygon fill=\"#000000\" stroke=\"#000000\" points=\"203.8457,-579.641 195.4876,-573.13 197.9611,-583.4321 203.8457,-579.641\"/>\n<text text-anchor=\"middle\" x=\"190.2006\" y=\"-593.8646\" font-family=\"Helvetica,sans-Serif\" font-size=\"14.00\" fill=\"#000000\">True</text>\n</g>\n<!-- 4 -->\n<g id=\"node5\" class=\"node\">\n<title>4</title>\n<polygon fill=\"#eb9f68\" stroke=\"#000000\" points=\"369.5,-573 245.5,-573 245.5,-505 369.5,-505 369.5,-573\"/>\n<text text-anchor=\"middle\" x=\"307.5\" y=\"-557.8\" font-family=\"Helvetica,sans-Serif\" font-size=\"14.00\" fill=\"#000000\">X[25] &lt;= 1.0</text>\n<text text-anchor=\"middle\" x=\"307.5\" y=\"-542.8\" font-family=\"Helvetica,sans-Serif\" font-size=\"14.00\" fill=\"#000000\">samples = 220</text>\n<text text-anchor=\"middle\" x=\"307.5\" y=\"-527.8\" font-family=\"Helvetica,sans-Serif\" font-size=\"14.00\" fill=\"#000000\">value = [178, 42]</text>\n<text text-anchor=\"middle\" x=\"307.5\" y=\"-512.8\" font-family=\"Helvetica,sans-Serif\" font-size=\"14.00\" fill=\"#000000\">class = good</text>\n</g>\n<!-- 0&#45;&gt;4 -->\n<g id=\"edge4\" class=\"edge\">\n<title>0&#45;&gt;4</title>\n<path fill=\"none\" stroke=\"#000000\" d=\"M262.4383,-608.9465C268.049,-600.2373 274.1529,-590.7626 280.0042,-581.6801\"/>\n<polygon fill=\"#000000\" stroke=\"#000000\" points=\"283.0389,-583.4321 285.5124,-573.13 277.1543,-579.641 283.0389,-583.4321\"/>\n<text text-anchor=\"middle\" x=\"290.7994\" y=\"-593.8646\" font-family=\"Helvetica,sans-Serif\" font-size=\"14.00\" fill=\"#000000\">False</text>\n</g>\n<!-- 2 -->\n<g id=\"node3\" class=\"node\">\n<title>2</title>\n<polygon fill=\"#399de5\" stroke=\"#000000\" points=\"107,-461.5 0,-461.5 0,-408.5 107,-408.5 107,-461.5\"/>\n<text text-anchor=\"middle\" x=\"53.5\" y=\"-446.3\" font-family=\"Helvetica,sans-Serif\" font-size=\"14.00\" fill=\"#000000\">samples = 53</text>\n<text text-anchor=\"middle\" x=\"53.5\" y=\"-431.3\" font-family=\"Helvetica,sans-Serif\" font-size=\"14.00\" fill=\"#000000\">value = [0, 53]</text>\n<text text-anchor=\"middle\" x=\"53.5\" y=\"-416.3\" font-family=\"Helvetica,sans-Serif\" font-size=\"14.00\" fill=\"#000000\">class = bad</text>\n</g>\n<!-- 1&#45;&gt;2 -->\n<g id=\"edge2\" class=\"edge\">\n<title>1&#45;&gt;2</title>\n<path fill=\"none\" stroke=\"#000000\" d=\"M134.2075,-504.9465C120.6083,-493.1606 105.3915,-479.9726 91.8676,-468.2519\"/>\n<polygon fill=\"#000000\" stroke=\"#000000\" points=\"93.9748,-465.4466 84.1256,-461.5422 89.3902,-470.7364 93.9748,-465.4466\"/>\n</g>\n<!-- 3 -->\n<g id=\"node4\" class=\"node\">\n<title>3</title>\n<polygon fill=\"#88c4ef\" stroke=\"#000000\" points=\"224,-461.5 125,-461.5 125,-408.5 224,-408.5 224,-461.5\"/>\n<text text-anchor=\"middle\" x=\"174.5\" y=\"-446.3\" font-family=\"Helvetica,sans-Serif\" font-size=\"14.00\" fill=\"#000000\">samples = 7</text>\n<text text-anchor=\"middle\" x=\"174.5\" y=\"-431.3\" font-family=\"Helvetica,sans-Serif\" font-size=\"14.00\" fill=\"#000000\">value = [2, 5]</text>\n<text text-anchor=\"middle\" x=\"174.5\" y=\"-416.3\" font-family=\"Helvetica,sans-Serif\" font-size=\"14.00\" fill=\"#000000\">class = bad</text>\n</g>\n<!-- 1&#45;&gt;3 -->\n<g id=\"edge3\" class=\"edge\">\n<title>1&#45;&gt;3</title>\n<path fill=\"none\" stroke=\"#000000\" d=\"M173.8274,-504.9465C173.9302,-494.2621 174.044,-482.4254 174.1483,-471.5742\"/>\n<polygon fill=\"#000000\" stroke=\"#000000\" points=\"177.6484,-471.5754 174.2448,-461.5422 170.6487,-471.508 177.6484,-471.5754\"/>\n</g>\n<!-- 5 -->\n<g id=\"node6\" class=\"node\">\n<title>5</title>\n<polygon fill=\"#e78845\" stroke=\"#000000\" points=\"368.5,-469 244.5,-469 244.5,-401 368.5,-401 368.5,-469\"/>\n<text text-anchor=\"middle\" x=\"306.5\" y=\"-453.8\" font-family=\"Helvetica,sans-Serif\" font-size=\"14.00\" fill=\"#000000\">X[6] &lt;= &#45;0.326</text>\n<text text-anchor=\"middle\" x=\"306.5\" y=\"-438.8\" font-family=\"Helvetica,sans-Serif\" font-size=\"14.00\" fill=\"#000000\">samples = 178</text>\n<text text-anchor=\"middle\" x=\"306.5\" y=\"-423.8\" font-family=\"Helvetica,sans-Serif\" font-size=\"14.00\" fill=\"#000000\">value = [168, 10]</text>\n<text text-anchor=\"middle\" x=\"306.5\" y=\"-408.8\" font-family=\"Helvetica,sans-Serif\" font-size=\"14.00\" fill=\"#000000\">class = good</text>\n</g>\n<!-- 4&#45;&gt;5 -->\n<g id=\"edge5\" class=\"edge\">\n<title>4&#45;&gt;5</title>\n<path fill=\"none\" stroke=\"#000000\" d=\"M307.1726,-504.9465C307.094,-496.776 307.009,-487.9318 306.9266,-479.3697\"/>\n<polygon fill=\"#000000\" stroke=\"#000000\" points=\"310.4243,-479.0958 306.8282,-469.13 303.4246,-479.1632 310.4243,-479.0958\"/>\n</g>\n<!-- 14 -->\n<g id=\"node15\" class=\"node\">\n<title>14</title>\n<polygon fill=\"#77bced\" stroke=\"#000000\" points=\"502.5,-469 386.5,-469 386.5,-401 502.5,-401 502.5,-469\"/>\n<text text-anchor=\"middle\" x=\"444.5\" y=\"-453.8\" font-family=\"Helvetica,sans-Serif\" font-size=\"14.00\" fill=\"#000000\">X[31] &lt;= 0.953</text>\n<text text-anchor=\"middle\" x=\"444.5\" y=\"-438.8\" font-family=\"Helvetica,sans-Serif\" font-size=\"14.00\" fill=\"#000000\">samples = 42</text>\n<text text-anchor=\"middle\" x=\"444.5\" y=\"-423.8\" font-family=\"Helvetica,sans-Serif\" font-size=\"14.00\" fill=\"#000000\">value = [10, 32]</text>\n<text text-anchor=\"middle\" x=\"444.5\" y=\"-408.8\" font-family=\"Helvetica,sans-Serif\" font-size=\"14.00\" fill=\"#000000\">class = bad</text>\n</g>\n<!-- 4&#45;&gt;14 -->\n<g id=\"edge14\" class=\"edge\">\n<title>4&#45;&gt;14</title>\n<path fill=\"none\" stroke=\"#000000\" d=\"M352.3589,-504.9465C364.7778,-495.519 378.3783,-485.1946 391.2261,-475.4415\"/>\n<polygon fill=\"#000000\" stroke=\"#000000\" points=\"393.6915,-477.9642 399.5403,-469.13 389.459,-472.3887 393.6915,-477.9642\"/>\n</g>\n<!-- 6 -->\n<g id=\"node7\" class=\"node\">\n<title>6</title>\n<polygon fill=\"#ffffff\" stroke=\"#000000\" points=\"234,-357.5 135,-357.5 135,-304.5 234,-304.5 234,-357.5\"/>\n<text text-anchor=\"middle\" x=\"184.5\" y=\"-342.3\" font-family=\"Helvetica,sans-Serif\" font-size=\"14.00\" fill=\"#000000\">samples = 6</text>\n<text text-anchor=\"middle\" x=\"184.5\" y=\"-327.3\" font-family=\"Helvetica,sans-Serif\" font-size=\"14.00\" fill=\"#000000\">value = [3, 3]</text>\n<text text-anchor=\"middle\" x=\"184.5\" y=\"-312.3\" font-family=\"Helvetica,sans-Serif\" font-size=\"14.00\" fill=\"#000000\">class = good</text>\n</g>\n<!-- 5&#45;&gt;6 -->\n<g id=\"edge6\" class=\"edge\">\n<title>5&#45;&gt;6</title>\n<path fill=\"none\" stroke=\"#000000\" d=\"M266.5526,-400.9465C252.7268,-389.1606 237.2564,-375.9726 223.5071,-364.2519\"/>\n<polygon fill=\"#000000\" stroke=\"#000000\" points=\"225.5168,-361.366 215.636,-357.5422 220.9756,-366.6931 225.5168,-361.366\"/>\n</g>\n<!-- 7 -->\n<g id=\"node8\" class=\"node\">\n<title>7</title>\n<polygon fill=\"#e68641\" stroke=\"#000000\" points=\"368.5,-365 252.5,-365 252.5,-297 368.5,-297 368.5,-365\"/>\n<text text-anchor=\"middle\" x=\"310.5\" y=\"-349.8\" font-family=\"Helvetica,sans-Serif\" font-size=\"14.00\" fill=\"#000000\">X[3] &lt;= 0.418</text>\n<text text-anchor=\"middle\" x=\"310.5\" y=\"-334.8\" font-family=\"Helvetica,sans-Serif\" font-size=\"14.00\" fill=\"#000000\">samples = 172</text>\n<text text-anchor=\"middle\" x=\"310.5\" y=\"-319.8\" font-family=\"Helvetica,sans-Serif\" font-size=\"14.00\" fill=\"#000000\">value = [165, 7]</text>\n<text text-anchor=\"middle\" x=\"310.5\" y=\"-304.8\" font-family=\"Helvetica,sans-Serif\" font-size=\"14.00\" fill=\"#000000\">class = good</text>\n</g>\n<!-- 5&#45;&gt;7 -->\n<g id=\"edge7\" class=\"edge\">\n<title>5&#45;&gt;7</title>\n<path fill=\"none\" stroke=\"#000000\" d=\"M307.8097,-400.9465C308.124,-392.776 308.4642,-383.9318 308.7935,-375.3697\"/>\n<polygon fill=\"#000000\" stroke=\"#000000\" points=\"312.3003,-375.2572 309.1873,-365.13 305.3055,-374.9881 312.3003,-375.2572\"/>\n</g>\n<!-- 8 -->\n<g id=\"node9\" class=\"node\">\n<title>8</title>\n<polygon fill=\"#f0b78e\" stroke=\"#000000\" points=\"235.5,-253.5 131.5,-253.5 131.5,-200.5 235.5,-200.5 235.5,-253.5\"/>\n<text text-anchor=\"middle\" x=\"183.5\" y=\"-238.3\" font-family=\"Helvetica,sans-Serif\" font-size=\"14.00\" fill=\"#000000\">samples = 10</text>\n<text text-anchor=\"middle\" x=\"183.5\" y=\"-223.3\" font-family=\"Helvetica,sans-Serif\" font-size=\"14.00\" fill=\"#000000\">value = [7, 3]</text>\n<text text-anchor=\"middle\" x=\"183.5\" y=\"-208.3\" font-family=\"Helvetica,sans-Serif\" font-size=\"14.00\" fill=\"#000000\">class = good</text>\n</g>\n<!-- 7&#45;&gt;8 -->\n<g id=\"edge8\" class=\"edge\">\n<title>7&#45;&gt;8</title>\n<path fill=\"none\" stroke=\"#000000\" d=\"M268.9155,-296.9465C254.3885,-285.0504 238.1173,-271.726 223.7049,-259.9237\"/>\n<polygon fill=\"#000000\" stroke=\"#000000\" points=\"225.8665,-257.17 215.9121,-253.5422 221.4314,-262.5858 225.8665,-257.17\"/>\n</g>\n<!-- 9 -->\n<g id=\"node10\" class=\"node\">\n<title>9</title>\n<polygon fill=\"#e6843e\" stroke=\"#000000\" points=\"369.5,-261 253.5,-261 253.5,-193 369.5,-193 369.5,-261\"/>\n<text text-anchor=\"middle\" x=\"311.5\" y=\"-245.8\" font-family=\"Helvetica,sans-Serif\" font-size=\"14.00\" fill=\"#000000\">X[32] &lt;= 0.829</text>\n<text text-anchor=\"middle\" x=\"311.5\" y=\"-230.8\" font-family=\"Helvetica,sans-Serif\" font-size=\"14.00\" fill=\"#000000\">samples = 162</text>\n<text text-anchor=\"middle\" x=\"311.5\" y=\"-215.8\" font-family=\"Helvetica,sans-Serif\" font-size=\"14.00\" fill=\"#000000\">value = [158, 4]</text>\n<text text-anchor=\"middle\" x=\"311.5\" y=\"-200.8\" font-family=\"Helvetica,sans-Serif\" font-size=\"14.00\" fill=\"#000000\">class = good</text>\n</g>\n<!-- 7&#45;&gt;9 -->\n<g id=\"edge9\" class=\"edge\">\n<title>7&#45;&gt;9</title>\n<path fill=\"none\" stroke=\"#000000\" d=\"M310.8274,-296.9465C310.906,-288.776 310.991,-279.9318 311.0734,-271.3697\"/>\n<polygon fill=\"#000000\" stroke=\"#000000\" points=\"314.5754,-271.1632 311.1718,-261.13 307.5757,-271.0958 314.5754,-271.1632\"/>\n</g>\n<!-- 10 -->\n<g id=\"node11\" class=\"node\">\n<title>10</title>\n<polygon fill=\"#e5833c\" stroke=\"#000000\" points=\"244.5,-157 128.5,-157 128.5,-89 244.5,-89 244.5,-157\"/>\n<text text-anchor=\"middle\" x=\"186.5\" y=\"-141.8\" font-family=\"Helvetica,sans-Serif\" font-size=\"14.00\" fill=\"#000000\">X[14] &lt;= &#45;0.094</text>\n<text text-anchor=\"middle\" x=\"186.5\" y=\"-126.8\" font-family=\"Helvetica,sans-Serif\" font-size=\"14.00\" fill=\"#000000\">samples = 156</text>\n<text text-anchor=\"middle\" x=\"186.5\" y=\"-111.8\" font-family=\"Helvetica,sans-Serif\" font-size=\"14.00\" fill=\"#000000\">value = [154, 2]</text>\n<text text-anchor=\"middle\" x=\"186.5\" y=\"-96.8\" font-family=\"Helvetica,sans-Serif\" font-size=\"14.00\" fill=\"#000000\">class = good</text>\n</g>\n<!-- 9&#45;&gt;10 -->\n<g id=\"edge10\" class=\"edge\">\n<title>9&#45;&gt;10</title>\n<path fill=\"none\" stroke=\"#000000\" d=\"M270.5703,-192.9465C259.3472,-183.6088 247.0663,-173.3911 235.4427,-163.7203\"/>\n<polygon fill=\"#000000\" stroke=\"#000000\" points=\"237.4474,-160.8353 227.5216,-157.13 232.9704,-166.2164 237.4474,-160.8353\"/>\n</g>\n<!-- 13 -->\n<g id=\"node14\" class=\"node\">\n<title>13</title>\n<polygon fill=\"#f2c09c\" stroke=\"#000000\" points=\"362,-149.5 263,-149.5 263,-96.5 362,-96.5 362,-149.5\"/>\n<text text-anchor=\"middle\" x=\"312.5\" y=\"-134.3\" font-family=\"Helvetica,sans-Serif\" font-size=\"14.00\" fill=\"#000000\">samples = 6</text>\n<text text-anchor=\"middle\" x=\"312.5\" y=\"-119.3\" font-family=\"Helvetica,sans-Serif\" font-size=\"14.00\" fill=\"#000000\">value = [4, 2]</text>\n<text text-anchor=\"middle\" x=\"312.5\" y=\"-104.3\" font-family=\"Helvetica,sans-Serif\" font-size=\"14.00\" fill=\"#000000\">class = good</text>\n</g>\n<!-- 9&#45;&gt;13 -->\n<g id=\"edge13\" class=\"edge\">\n<title>9&#45;&gt;13</title>\n<path fill=\"none\" stroke=\"#000000\" d=\"M311.8274,-192.9465C311.9302,-182.2621 312.044,-170.4254 312.1483,-159.5742\"/>\n<polygon fill=\"#000000\" stroke=\"#000000\" points=\"315.6484,-159.5754 312.2448,-149.5422 308.6487,-159.508 315.6484,-159.5754\"/>\n</g>\n<!-- 11 -->\n<g id=\"node12\" class=\"node\">\n<title>11</title>\n<polygon fill=\"#e78c4b\" stroke=\"#000000\" points=\"175,-53 68,-53 68,0 175,0 175,-53\"/>\n<text text-anchor=\"middle\" x=\"121.5\" y=\"-37.8\" font-family=\"Helvetica,sans-Serif\" font-size=\"14.00\" fill=\"#000000\">samples = 24</text>\n<text text-anchor=\"middle\" x=\"121.5\" y=\"-22.8\" font-family=\"Helvetica,sans-Serif\" font-size=\"14.00\" fill=\"#000000\">value = [22, 2]</text>\n<text text-anchor=\"middle\" x=\"121.5\" y=\"-7.8\" font-family=\"Helvetica,sans-Serif\" font-size=\"14.00\" fill=\"#000000\">class = good</text>\n</g>\n<!-- 10&#45;&gt;11 -->\n<g id=\"edge11\" class=\"edge\">\n<title>10&#45;&gt;11</title>\n<path fill=\"none\" stroke=\"#000000\" d=\"M163.5834,-88.9777C157.6006,-80.0954 151.1418,-70.5067 145.123,-61.5711\"/>\n<polygon fill=\"#000000\" stroke=\"#000000\" points=\"148.0067,-59.5871 139.5171,-53.2485 142.2009,-63.4978 148.0067,-59.5871\"/>\n</g>\n<!-- 12 -->\n<g id=\"node13\" class=\"node\">\n<title>12</title>\n<polygon fill=\"#e58139\" stroke=\"#000000\" points=\"309.5,-53 193.5,-53 193.5,0 309.5,0 309.5,-53\"/>\n<text text-anchor=\"middle\" x=\"251.5\" y=\"-37.8\" font-family=\"Helvetica,sans-Serif\" font-size=\"14.00\" fill=\"#000000\">samples = 132</text>\n<text text-anchor=\"middle\" x=\"251.5\" y=\"-22.8\" font-family=\"Helvetica,sans-Serif\" font-size=\"14.00\" fill=\"#000000\">value = [132, 0]</text>\n<text text-anchor=\"middle\" x=\"251.5\" y=\"-7.8\" font-family=\"Helvetica,sans-Serif\" font-size=\"14.00\" fill=\"#000000\">class = good</text>\n</g>\n<!-- 10&#45;&gt;12 -->\n<g id=\"edge12\" class=\"edge\">\n<title>10&#45;&gt;12</title>\n<path fill=\"none\" stroke=\"#000000\" d=\"M209.4166,-88.9777C215.3994,-80.0954 221.8582,-70.5067 227.877,-61.5711\"/>\n<polygon fill=\"#000000\" stroke=\"#000000\" points=\"230.7991,-63.4978 233.4829,-53.2485 224.9933,-59.5871 230.7991,-63.4978\"/>\n</g>\n<!-- 15 -->\n<g id=\"node16\" class=\"node\">\n<title>15</title>\n<polygon fill=\"#399de5\" stroke=\"#000000\" points=\"496,-357.5 389,-357.5 389,-304.5 496,-304.5 496,-357.5\"/>\n<text text-anchor=\"middle\" x=\"442.5\" y=\"-342.3\" font-family=\"Helvetica,sans-Serif\" font-size=\"14.00\" fill=\"#000000\">samples = 17</text>\n<text text-anchor=\"middle\" x=\"442.5\" y=\"-327.3\" font-family=\"Helvetica,sans-Serif\" font-size=\"14.00\" fill=\"#000000\">value = [0, 17]</text>\n<text text-anchor=\"middle\" x=\"442.5\" y=\"-312.3\" font-family=\"Helvetica,sans-Serif\" font-size=\"14.00\" fill=\"#000000\">class = bad</text>\n</g>\n<!-- 14&#45;&gt;15 -->\n<g id=\"edge15\" class=\"edge\">\n<title>14&#45;&gt;15</title>\n<path fill=\"none\" stroke=\"#000000\" d=\"M443.8451,-400.9465C443.6397,-390.2621 443.412,-378.4254 443.2034,-367.5742\"/>\n<polygon fill=\"#000000\" stroke=\"#000000\" points=\"446.7021,-367.473 443.0104,-357.5422 439.7034,-367.6076 446.7021,-367.473\"/>\n</g>\n<!-- 16 -->\n<g id=\"node17\" class=\"node\">\n<title>16</title>\n<polygon fill=\"#bddef6\" stroke=\"#000000\" points=\"630.5,-365 514.5,-365 514.5,-297 630.5,-297 630.5,-365\"/>\n<text text-anchor=\"middle\" x=\"572.5\" y=\"-349.8\" font-family=\"Helvetica,sans-Serif\" font-size=\"14.00\" fill=\"#000000\">X[6] &lt;= &#45;0.094</text>\n<text text-anchor=\"middle\" x=\"572.5\" y=\"-334.8\" font-family=\"Helvetica,sans-Serif\" font-size=\"14.00\" fill=\"#000000\">samples = 25</text>\n<text text-anchor=\"middle\" x=\"572.5\" y=\"-319.8\" font-family=\"Helvetica,sans-Serif\" font-size=\"14.00\" fill=\"#000000\">value = [10, 15]</text>\n<text text-anchor=\"middle\" x=\"572.5\" y=\"-304.8\" font-family=\"Helvetica,sans-Serif\" font-size=\"14.00\" fill=\"#000000\">class = bad</text>\n</g>\n<!-- 14&#45;&gt;16 -->\n<g id=\"edge16\" class=\"edge\">\n<title>14&#45;&gt;16</title>\n<path fill=\"none\" stroke=\"#000000\" d=\"M486.412,-400.9465C498.015,-391.519 510.7221,-381.1946 522.7259,-371.4415\"/>\n<polygon fill=\"#000000\" stroke=\"#000000\" points=\"524.9398,-374.1524 530.4939,-365.13 520.5256,-368.7196 524.9398,-374.1524\"/>\n</g>\n<!-- 17 -->\n<g id=\"node18\" class=\"node\">\n<title>17</title>\n<polygon fill=\"#49a5e7\" stroke=\"#000000\" points=\"617,-261 510,-261 510,-193 617,-193 617,-261\"/>\n<text text-anchor=\"middle\" x=\"563.5\" y=\"-245.8\" font-family=\"Helvetica,sans-Serif\" font-size=\"14.00\" fill=\"#000000\">X[32] &lt;= &#45;0.83</text>\n<text text-anchor=\"middle\" x=\"563.5\" y=\"-230.8\" font-family=\"Helvetica,sans-Serif\" font-size=\"14.00\" fill=\"#000000\">samples = 13</text>\n<text text-anchor=\"middle\" x=\"563.5\" y=\"-215.8\" font-family=\"Helvetica,sans-Serif\" font-size=\"14.00\" fill=\"#000000\">value = [1, 12]</text>\n<text text-anchor=\"middle\" x=\"563.5\" y=\"-200.8\" font-family=\"Helvetica,sans-Serif\" font-size=\"14.00\" fill=\"#000000\">class = bad</text>\n</g>\n<!-- 16&#45;&gt;17 -->\n<g id=\"edge17\" class=\"edge\">\n<title>16&#45;&gt;17</title>\n<path fill=\"none\" stroke=\"#000000\" d=\"M569.5531,-296.9465C568.846,-288.776 568.0806,-279.9318 567.3397,-271.3697\"/>\n<polygon fill=\"#000000\" stroke=\"#000000\" points=\"570.8028,-270.791 566.4536,-261.13 563.8288,-271.3945 570.8028,-270.791\"/>\n</g>\n<!-- 20 -->\n<g id=\"node21\" class=\"node\">\n<title>20</title>\n<polygon fill=\"#eeab7b\" stroke=\"#000000\" points=\"739.5,-261 635.5,-261 635.5,-193 739.5,-193 739.5,-261\"/>\n<text text-anchor=\"middle\" x=\"687.5\" y=\"-245.8\" font-family=\"Helvetica,sans-Serif\" font-size=\"14.00\" fill=\"#000000\">X[6] &lt;= 0.316</text>\n<text text-anchor=\"middle\" x=\"687.5\" y=\"-230.8\" font-family=\"Helvetica,sans-Serif\" font-size=\"14.00\" fill=\"#000000\">samples = 12</text>\n<text text-anchor=\"middle\" x=\"687.5\" y=\"-215.8\" font-family=\"Helvetica,sans-Serif\" font-size=\"14.00\" fill=\"#000000\">value = [9, 3]</text>\n<text text-anchor=\"middle\" x=\"687.5\" y=\"-200.8\" font-family=\"Helvetica,sans-Serif\" font-size=\"14.00\" fill=\"#000000\">class = good</text>\n</g>\n<!-- 16&#45;&gt;20 -->\n<g id=\"edge20\" class=\"edge\">\n<title>16&#45;&gt;20</title>\n<path fill=\"none\" stroke=\"#000000\" d=\"M610.1553,-296.9465C620.3813,-287.6986 631.5618,-277.5876 642.1641,-267.9994\"/>\n<polygon fill=\"#000000\" stroke=\"#000000\" points=\"644.6908,-270.4334 649.7601,-261.13 639.9956,-265.2416 644.6908,-270.4334\"/>\n</g>\n<!-- 18 -->\n<g id=\"node19\" class=\"node\">\n<title>18</title>\n<polygon fill=\"#399de5\" stroke=\"#000000\" points=\"499,-149.5 400,-149.5 400,-96.5 499,-96.5 499,-149.5\"/>\n<text text-anchor=\"middle\" x=\"449.5\" y=\"-134.3\" font-family=\"Helvetica,sans-Serif\" font-size=\"14.00\" fill=\"#000000\">samples = 7</text>\n<text text-anchor=\"middle\" x=\"449.5\" y=\"-119.3\" font-family=\"Helvetica,sans-Serif\" font-size=\"14.00\" fill=\"#000000\">value = [0, 7]</text>\n<text text-anchor=\"middle\" x=\"449.5\" y=\"-104.3\" font-family=\"Helvetica,sans-Serif\" font-size=\"14.00\" fill=\"#000000\">class = bad</text>\n</g>\n<!-- 17&#45;&gt;18 -->\n<g id=\"edge18\" class=\"edge\">\n<title>17&#45;&gt;18</title>\n<path fill=\"none\" stroke=\"#000000\" d=\"M526.1721,-192.9465C513.3737,-181.2707 499.067,-168.219 486.3099,-156.5809\"/>\n<polygon fill=\"#000000\" stroke=\"#000000\" points=\"488.3409,-153.6961 478.5943,-149.5422 483.6231,-158.8675 488.3409,-153.6961\"/>\n</g>\n<!-- 19 -->\n<g id=\"node20\" class=\"node\">\n<title>19</title>\n<polygon fill=\"#61b1ea\" stroke=\"#000000\" points=\"616,-149.5 517,-149.5 517,-96.5 616,-96.5 616,-149.5\"/>\n<text text-anchor=\"middle\" x=\"566.5\" y=\"-134.3\" font-family=\"Helvetica,sans-Serif\" font-size=\"14.00\" fill=\"#000000\">samples = 6</text>\n<text text-anchor=\"middle\" x=\"566.5\" y=\"-119.3\" font-family=\"Helvetica,sans-Serif\" font-size=\"14.00\" fill=\"#000000\">value = [1, 5]</text>\n<text text-anchor=\"middle\" x=\"566.5\" y=\"-104.3\" font-family=\"Helvetica,sans-Serif\" font-size=\"14.00\" fill=\"#000000\">class = bad</text>\n</g>\n<!-- 17&#45;&gt;19 -->\n<g id=\"edge19\" class=\"edge\">\n<title>17&#45;&gt;19</title>\n<path fill=\"none\" stroke=\"#000000\" d=\"M564.4823,-192.9465C564.7905,-182.2621 565.132,-170.4254 565.445,-159.5742\"/>\n<polygon fill=\"#000000\" stroke=\"#000000\" points=\"568.9445,-159.639 565.7344,-149.5422 561.9474,-159.4371 568.9445,-159.639\"/>\n</g>\n<!-- 21 -->\n<g id=\"node22\" class=\"node\">\n<title>21</title>\n<polygon fill=\"#e58139\" stroke=\"#000000\" points=\"736,-149.5 637,-149.5 637,-96.5 736,-96.5 736,-149.5\"/>\n<text text-anchor=\"middle\" x=\"686.5\" y=\"-134.3\" font-family=\"Helvetica,sans-Serif\" font-size=\"14.00\" fill=\"#000000\">samples = 6</text>\n<text text-anchor=\"middle\" x=\"686.5\" y=\"-119.3\" font-family=\"Helvetica,sans-Serif\" font-size=\"14.00\" fill=\"#000000\">value = [6, 0]</text>\n<text text-anchor=\"middle\" x=\"686.5\" y=\"-104.3\" font-family=\"Helvetica,sans-Serif\" font-size=\"14.00\" fill=\"#000000\">class = good</text>\n</g>\n<!-- 20&#45;&gt;21 -->\n<g id=\"edge21\" class=\"edge\">\n<title>20&#45;&gt;21</title>\n<path fill=\"none\" stroke=\"#000000\" d=\"M687.1726,-192.9465C687.0698,-182.2621 686.956,-170.4254 686.8517,-159.5742\"/>\n<polygon fill=\"#000000\" stroke=\"#000000\" points=\"690.3513,-159.508 686.7552,-149.5422 683.3516,-159.5754 690.3513,-159.508\"/>\n</g>\n<!-- 22 -->\n<g id=\"node23\" class=\"node\">\n<title>22</title>\n<polygon fill=\"#ffffff\" stroke=\"#000000\" points=\"853,-149.5 754,-149.5 754,-96.5 853,-96.5 853,-149.5\"/>\n<text text-anchor=\"middle\" x=\"803.5\" y=\"-134.3\" font-family=\"Helvetica,sans-Serif\" font-size=\"14.00\" fill=\"#000000\">samples = 6</text>\n<text text-anchor=\"middle\" x=\"803.5\" y=\"-119.3\" font-family=\"Helvetica,sans-Serif\" font-size=\"14.00\" fill=\"#000000\">value = [3, 3]</text>\n<text text-anchor=\"middle\" x=\"803.5\" y=\"-104.3\" font-family=\"Helvetica,sans-Serif\" font-size=\"14.00\" fill=\"#000000\">class = good</text>\n</g>\n<!-- 20&#45;&gt;22 -->\n<g id=\"edge22\" class=\"edge\">\n<title>20&#45;&gt;22</title>\n<path fill=\"none\" stroke=\"#000000\" d=\"M725.4827,-192.9465C738.6286,-181.1606 753.3382,-167.9726 766.4113,-156.2519\"/>\n<polygon fill=\"#000000\" stroke=\"#000000\" points=\"768.786,-158.8236 773.8953,-149.5422 764.1131,-153.6116 768.786,-158.8236\"/>\n</g>\n</g>\n</svg>\n"
          },
          "metadata": {},
          "execution_count": 37
        }
      ]
    },
    {
      "cell_type": "code",
      "source": [
        "#Maximum depth of the tree as 1\n",
        "\n",
        "model = DecisionTreeClassifier(max_depth=1, min_samples_leaf=6, min_samples_split=10)\n",
        "model.fit(X_train,y_train)\n",
        "predict = model.predict(X_test)\n",
        "\n",
        "print('Accuracy : ', accuracy_score(y_test, predict))\n",
        "print('\\nPrecision : ', precision_score(y_test, predict))\n",
        "print('\\nRecall : ',recall_score(y_test, predict))\n",
        "print('\\nClassification Report : \\n',classification_report(y_test, predict))\n",
        "print('Confusion Matrix : \\n', confusion_matrix(y_test, predict))\n",
        "\n",
        "fpr1, tpr1, t1 = roc_curve(y_test, predict)\n",
        "pre1, rec1, t2 = precision_recall_curve(y_test, predict)\n",
        "\n",
        "print(\"\\nROC CURVE\")\n",
        "plt.figure()\n",
        "plt.subplot(2,1,1)\n",
        "plt.plot(fpr1, tpr1)\n",
        "plt.xlabel('False Positive Rate')\n",
        "plt.ylabel('True Positive Rate')\n",
        "plt.title('ROC Curve')\n",
        "plt.show()\n",
        "\n",
        "print(\"\\n PRECISION/RECALL CURVE\")\n",
        "plt.figure()\n",
        "plt.subplot(2,1,2)\n",
        "plt.step(rec1, pre1)\n",
        "plt.xlabel('Recall')\n",
        "plt.ylabel('Precision')\n",
        "plt.title('precision/recall curve')\n",
        "plt.show()\n",
        "\n",
        "graph = Source(tree.export_graphviz(model, out_file=None, class_names=['good','bad'], impurity=False,filled=True))"
      ],
      "metadata": {
        "colab": {
          "base_uri": "https://localhost:8080/",
          "height": 715
        },
        "id": "K7pYnxcgJZBw",
        "outputId": "dac12d2b-bb9d-4f61-ad74-9db758578f34"
      },
      "execution_count": 38,
      "outputs": [
        {
          "output_type": "stream",
          "name": "stdout",
          "text": [
            "Accuracy :  0.8142857142857143\n",
            "\n",
            "Precision :  0.8823529411764706\n",
            "\n",
            "Recall :  0.5769230769230769\n",
            "\n",
            "Classification Report : \n",
            "               precision    recall  f1-score   support\n",
            "\n",
            "           0       0.79      0.95      0.87        44\n",
            "           1       0.88      0.58      0.70        26\n",
            "\n",
            "    accuracy                           0.81        70\n",
            "   macro avg       0.84      0.77      0.78        70\n",
            "weighted avg       0.83      0.81      0.80        70\n",
            "\n",
            "Confusion Matrix : \n",
            " [[42  2]\n",
            " [11 15]]\n",
            "\n",
            "ROC CURVE\n"
          ]
        },
        {
          "output_type": "display_data",
          "data": {
            "text/plain": [
              "<Figure size 432x288 with 1 Axes>"
            ],
            "image/png": "[encoded data removed]"
          },
          "metadata": {
            "needs_background": "light"
          }
        },
        {
          "output_type": "stream",
          "name": "stdout",
          "text": [
            "\n",
            " PRECISION/RECALL CURVE\n"
          ]
        },
        {
          "output_type": "display_data",
          "data": {
            "text/plain": [
              "<Figure size 432x288 with 1 Axes>"
            ],
            "image/png": "[encoded data removed]"
          },
          "metadata": {
            "needs_background": "light"
          }
        }
      ]
    },
    {
      "cell_type": "code",
      "source": [
        "graph"
      ],
      "metadata": {
        "colab": {
          "base_uri": "https://localhost:8080/",
          "height": 240
        },
        "id": "vvQWQCxASPx7",
        "outputId": "88253dba-962d-4823-877e-461980ffd5d6"
      },
      "execution_count": 39,
      "outputs": [
        {
          "output_type": "execute_result",
          "data": {
            "text/plain": [
              "<graphviz.files.Source at 0x7f70bfec1950>"
            ],
            "image/svg+xml": "<?xml version=\"1.0\" encoding=\"UTF-8\" standalone=\"no\"?>\n<!DOCTYPE svg PUBLIC \"-//W3C//DTD SVG 1.1//EN\"\n \"http://www.w3.org/Graphics/SVG/1.1/DTD/svg11.dtd\">\n<!-- Generated by graphviz version 2.40.1 (20161225.0304)\n -->\n<!-- Title: Tree Pages: 1 -->\n<svg width=\"258pt\" height=\"165pt\"\n viewBox=\"0.00 0.00 257.50 165.00\" xmlns=\"http://www.w3.org/2000/svg\" xmlns:xlink=\"http://www.w3.org/1999/xlink\">\n<g id=\"graph0\" class=\"graph\" transform=\"scale(1 1) rotate(0) translate(4 161)\">\n<title>Tree</title>\n<polygon fill=\"#ffffff\" stroke=\"transparent\" points=\"-4,4 -4,-161 253.5,-161 253.5,4 -4,4\"/>\n<!-- 0 -->\n<g id=\"node1\" class=\"node\">\n<title>0</title>\n<polygon fill=\"#f3c7a7\" stroke=\"#000000\" points=\"186.5,-157 54.5,-157 54.5,-89 186.5,-89 186.5,-157\"/>\n<text text-anchor=\"middle\" x=\"120.5\" y=\"-141.8\" font-family=\"Helvetica,sans-Serif\" font-size=\"14.00\" fill=\"#000000\">X[3] &lt;= 0.232</text>\n<text text-anchor=\"middle\" x=\"120.5\" y=\"-126.8\" font-family=\"Helvetica,sans-Serif\" font-size=\"14.00\" fill=\"#000000\">samples = 280</text>\n<text text-anchor=\"middle\" x=\"120.5\" y=\"-111.8\" font-family=\"Helvetica,sans-Serif\" font-size=\"14.00\" fill=\"#000000\">value = [180, 100]</text>\n<text text-anchor=\"middle\" x=\"120.5\" y=\"-96.8\" font-family=\"Helvetica,sans-Serif\" font-size=\"14.00\" fill=\"#000000\">class = good</text>\n</g>\n<!-- 1 -->\n<g id=\"node2\" class=\"node\">\n<title>1</title>\n<polygon fill=\"#40a0e6\" stroke=\"#000000\" points=\"107,-53 0,-53 0,0 107,0 107,-53\"/>\n<text text-anchor=\"middle\" x=\"53.5\" y=\"-37.8\" font-family=\"Helvetica,sans-Serif\" font-size=\"14.00\" fill=\"#000000\">samples = 60</text>\n<text text-anchor=\"middle\" x=\"53.5\" y=\"-22.8\" font-family=\"Helvetica,sans-Serif\" font-size=\"14.00\" fill=\"#000000\">value = [2, 58]</text>\n<text text-anchor=\"middle\" x=\"53.5\" y=\"-7.8\" font-family=\"Helvetica,sans-Serif\" font-size=\"14.00\" fill=\"#000000\">class = bad</text>\n</g>\n<!-- 0&#45;&gt;1 -->\n<g id=\"edge1\" class=\"edge\">\n<title>0&#45;&gt;1</title>\n<path fill=\"none\" stroke=\"#000000\" d=\"M96.8783,-88.9777C90.7113,-80.0954 84.0539,-70.5067 77.8499,-61.5711\"/>\n<polygon fill=\"#000000\" stroke=\"#000000\" points=\"80.6497,-59.4666 72.0715,-53.2485 74.8997,-63.4589 80.6497,-59.4666\"/>\n<text text-anchor=\"middle\" x=\"67.6325\" y=\"-74.1512\" font-family=\"Helvetica,sans-Serif\" font-size=\"14.00\" fill=\"#000000\">True</text>\n</g>\n<!-- 2 -->\n<g id=\"node3\" class=\"node\">\n<title>2</title>\n<polygon fill=\"#eb9f68\" stroke=\"#000000\" points=\"249.5,-53 125.5,-53 125.5,0 249.5,0 249.5,-53\"/>\n<text text-anchor=\"middle\" x=\"187.5\" y=\"-37.8\" font-family=\"Helvetica,sans-Serif\" font-size=\"14.00\" fill=\"#000000\">samples = 220</text>\n<text text-anchor=\"middle\" x=\"187.5\" y=\"-22.8\" font-family=\"Helvetica,sans-Serif\" font-size=\"14.00\" fill=\"#000000\">value = [178, 42]</text>\n<text text-anchor=\"middle\" x=\"187.5\" y=\"-7.8\" font-family=\"Helvetica,sans-Serif\" font-size=\"14.00\" fill=\"#000000\">class = good</text>\n</g>\n<!-- 0&#45;&gt;2 -->\n<g id=\"edge2\" class=\"edge\">\n<title>0&#45;&gt;2</title>\n<path fill=\"none\" stroke=\"#000000\" d=\"M144.1217,-88.9777C150.2887,-80.0954 156.9461,-70.5067 163.1501,-61.5711\"/>\n<polygon fill=\"#000000\" stroke=\"#000000\" points=\"166.1003,-63.4589 168.9285,-53.2485 160.3503,-59.4666 166.1003,-63.4589\"/>\n<text text-anchor=\"middle\" x=\"173.3675\" y=\"-74.1512\" font-family=\"Helvetica,sans-Serif\" font-size=\"14.00\" fill=\"#000000\">False</text>\n</g>\n</g>\n</svg>\n"
          },
          "metadata": {},
          "execution_count": 39
        }
      ]
    },
    {
      "cell_type": "code",
      "source": [
        ""
      ],
      "metadata": {
        "id": "lMB6Oz-SSRlQ"
      },
      "execution_count": null,
      "outputs": []
    }
  ]
}