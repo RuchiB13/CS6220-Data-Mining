{
 "cells": [
  {
   "cell_type": "markdown",
   "id": "cd791769",
   "metadata": {},
   "source": [
    "# IRIS DATASET"
   ]
  },
  {
   "cell_type": "code",
   "execution_count": 1,
   "id": "6075bd91",
   "metadata": {},
   "outputs": [],
   "source": [
    "import pandas as pd\n",
    "import matplotlib.pyplot as plt"
   ]
  },
  {
   "cell_type": "code",
   "execution_count": 2,
   "id": "705ff018",
   "metadata": {},
   "outputs": [],
   "source": [
    "cols = ['sepal_length', 'sepal_width', 'petal_length', 'petal_width', 'class']\n",
    "data = pd.read_csv('C:/Users/Ruchi/OneDrive/Desktop/MS Subjects/Data Mining/Assignment2/iris.data', sep = ',', names = cols)"
   ]
  },
  {
   "cell_type": "code",
   "execution_count": 3,
   "id": "2cb00775",
   "metadata": {},
   "outputs": [
    {
     "data": {
      "text/html": [
       "<div>\n",
       "<style scoped>\n",
       "    .dataframe tbody tr th:only-of-type {\n",
       "        vertical-align: middle;\n",
       "    }\n",
       "\n",
       "    .dataframe tbody tr th {\n",
       "        vertical-align: top;\n",
       "    }\n",
       "\n",
       "    .dataframe thead th {\n",
       "        text-align: right;\n",
       "    }\n",
       "</style>\n",
       "<table border=\"1\" class=\"dataframe\">\n",
       "  <thead>\n",
       "    <tr style=\"text-align: right;\">\n",
       "      <th></th>\n",
       "      <th>sepal_length</th>\n",
       "      <th>sepal_width</th>\n",
       "      <th>petal_length</th>\n",
       "      <th>petal_width</th>\n",
       "      <th>class</th>\n",
       "    </tr>\n",
       "  </thead>\n",
       "  <tbody>\n",
       "    <tr>\n",
       "      <th>0</th>\n",
       "      <td>5.1</td>\n",
       "      <td>3.5</td>\n",
       "      <td>1.4</td>\n",
       "      <td>0.2</td>\n",
       "      <td>Iris-setosa</td>\n",
       "    </tr>\n",
       "    <tr>\n",
       "      <th>1</th>\n",
       "      <td>4.9</td>\n",
       "      <td>3.0</td>\n",
       "      <td>1.4</td>\n",
       "      <td>0.2</td>\n",
       "      <td>Iris-setosa</td>\n",
       "    </tr>\n",
       "    <tr>\n",
       "      <th>2</th>\n",
       "      <td>4.7</td>\n",
       "      <td>3.2</td>\n",
       "      <td>1.3</td>\n",
       "      <td>0.2</td>\n",
       "      <td>Iris-setosa</td>\n",
       "    </tr>\n",
       "    <tr>\n",
       "      <th>3</th>\n",
       "      <td>4.6</td>\n",
       "      <td>3.1</td>\n",
       "      <td>1.5</td>\n",
       "      <td>0.2</td>\n",
       "      <td>Iris-setosa</td>\n",
       "    </tr>\n",
       "    <tr>\n",
       "      <th>4</th>\n",
       "      <td>5.0</td>\n",
       "      <td>3.6</td>\n",
       "      <td>1.4</td>\n",
       "      <td>0.2</td>\n",
       "      <td>Iris-setosa</td>\n",
       "    </tr>\n",
       "  </tbody>\n",
       "</table>\n",
       "</div>"
      ],
      "text/plain": [
       "   sepal_length  sepal_width  petal_length  petal_width        class\n",
       "0           5.1          3.5           1.4          0.2  Iris-setosa\n",
       "1           4.9          3.0           1.4          0.2  Iris-setosa\n",
       "2           4.7          3.2           1.3          0.2  Iris-setosa\n",
       "3           4.6          3.1           1.5          0.2  Iris-setosa\n",
       "4           5.0          3.6           1.4          0.2  Iris-setosa"
      ]
     },
     "execution_count": 3,
     "metadata": {},
     "output_type": "execute_result"
    }
   ],
   "source": [
    "data.head()"
   ]
  },
  {
   "cell_type": "markdown",
   "id": "e0f0adb9",
   "metadata": {},
   "source": [
    "### 1.1 Summary Statistics"
   ]
  },
  {
   "cell_type": "markdown",
   "id": "b9f8a1de",
   "metadata": {},
   "source": [
    "##### Minimum"
   ]
  },
  {
   "cell_type": "code",
   "execution_count": 4,
   "id": "b3f4a6ef",
   "metadata": {},
   "outputs": [
    {
     "name": "stdout",
     "output_type": "stream",
     "text": [
      "---Minimum values for each feature---\n",
      "\n"
     ]
    },
    {
     "data": {
      "text/plain": [
       "sepal_length            4.3\n",
       "sepal_width             2.0\n",
       "petal_length            1.0\n",
       "petal_width             0.1\n",
       "class           Iris-setosa\n",
       "dtype: object"
      ]
     },
     "execution_count": 4,
     "metadata": {},
     "output_type": "execute_result"
    }
   ],
   "source": [
    "print('---Minimum values for each feature---\\n')\n",
    "data.min()"
   ]
  },
  {
   "cell_type": "markdown",
   "id": "f8dff95c",
   "metadata": {},
   "source": [
    "##### Maximum"
   ]
  },
  {
   "cell_type": "code",
   "execution_count": 5,
   "id": "4d772e99",
   "metadata": {},
   "outputs": [
    {
     "name": "stdout",
     "output_type": "stream",
     "text": [
      "---Maximum values for each feature---\n",
      "\n"
     ]
    },
    {
     "data": {
      "text/plain": [
       "sepal_length               7.9\n",
       "sepal_width                4.4\n",
       "petal_length               6.9\n",
       "petal_width                2.5\n",
       "class           Iris-virginica\n",
       "dtype: object"
      ]
     },
     "execution_count": 5,
     "metadata": {},
     "output_type": "execute_result"
    }
   ],
   "source": [
    "print('---Maximum values for each feature---\\n')\n",
    "data.max()"
   ]
  },
  {
   "cell_type": "markdown",
   "id": "4c8a345f",
   "metadata": {},
   "source": [
    "##### Mean"
   ]
  },
  {
   "cell_type": "code",
   "execution_count": 18,
   "id": "882bf4a0",
   "metadata": {},
   "outputs": [
    {
     "name": "stdout",
     "output_type": "stream",
     "text": [
      "---Mean value for each feature---\n",
      "\n"
     ]
    },
    {
     "name": "stderr",
     "output_type": "stream",
     "text": [
      "c:\\users\\ruchi\\appdata\\local\\programs\\python\\python37\\lib\\site-packages\\ipykernel_launcher.py:2: FutureWarning: Dropping of nuisance columns in DataFrame reductions (with 'numeric_only=None') is deprecated; in a future version this will raise TypeError.  Select only valid columns before calling the reduction.\n",
      "  \n"
     ]
    },
    {
     "data": {
      "text/plain": [
       "sepal_length    5.843333\n",
       "sepal_width     3.054000\n",
       "petal_length    3.758667\n",
       "petal_width     1.198667\n",
       "dtype: float64"
      ]
     },
     "execution_count": 18,
     "metadata": {},
     "output_type": "execute_result"
    }
   ],
   "source": [
    "print('---Mean value for each feature---\\n')\n",
    "data.mean()"
   ]
  },
  {
   "cell_type": "markdown",
   "id": "f9370fc7",
   "metadata": {},
   "source": [
    "##### Range"
   ]
  },
  {
   "cell_type": "code",
   "execution_count": 20,
   "id": "872faede",
   "metadata": {},
   "outputs": [
    {
     "name": "stdout",
     "output_type": "stream",
     "text": [
      "---Range for each feature---\n",
      "\n",
      "sepal_length = [4.3,7.9]\n",
      "sepal_width = [2.0,4.4]\n",
      "petal_length = [1.0,6.9]\n",
      "petal_width = [0.1,2.5]\n",
      "class = [Iris-setosa,Iris-virginica]\n"
     ]
    }
   ],
   "source": [
    "print('---Range for each feature---\\n')\n",
    "for item in cols:\n",
    "    print(item+\" = [\"+str(data[item].min())+\",\"+str(data[item].max())+\"]\")"
   ]
  },
  {
   "cell_type": "markdown",
   "id": "e2ea8bf5",
   "metadata": {},
   "source": [
    "##### Standard Deviation"
   ]
  },
  {
   "cell_type": "code",
   "execution_count": 8,
   "id": "ef833251",
   "metadata": {},
   "outputs": [
    {
     "name": "stdout",
     "output_type": "stream",
     "text": [
      "---Standard Deviation for each feature---\n",
      "\n"
     ]
    },
    {
     "name": "stderr",
     "output_type": "stream",
     "text": [
      "c:\\users\\ruchi\\appdata\\local\\programs\\python\\python37\\lib\\site-packages\\ipykernel_launcher.py:2: FutureWarning: Dropping of nuisance columns in DataFrame reductions (with 'numeric_only=None') is deprecated; in a future version this will raise TypeError.  Select only valid columns before calling the reduction.\n",
      "  \n"
     ]
    },
    {
     "data": {
      "text/plain": [
       "sepal_length    0.828066\n",
       "sepal_width     0.433594\n",
       "petal_length    1.764420\n",
       "petal_width     0.763161\n",
       "dtype: float64"
      ]
     },
     "execution_count": 8,
     "metadata": {},
     "output_type": "execute_result"
    }
   ],
   "source": [
    "print('---Standard Deviation for each feature---\\n')\n",
    "data.std()"
   ]
  },
  {
   "cell_type": "markdown",
   "id": "c49cf300",
   "metadata": {},
   "source": [
    "##### Variance "
   ]
  },
  {
   "cell_type": "code",
   "execution_count": 9,
   "id": "d0dd1e49",
   "metadata": {},
   "outputs": [
    {
     "name": "stdout",
     "output_type": "stream",
     "text": [
      "---Variance for each feature---\n",
      "\n"
     ]
    },
    {
     "name": "stderr",
     "output_type": "stream",
     "text": [
      "c:\\users\\ruchi\\appdata\\local\\programs\\python\\python37\\lib\\site-packages\\ipykernel_launcher.py:2: FutureWarning: Dropping of nuisance columns in DataFrame reductions (with 'numeric_only=None') is deprecated; in a future version this will raise TypeError.  Select only valid columns before calling the reduction.\n",
      "  \n"
     ]
    },
    {
     "data": {
      "text/plain": [
       "sepal_length    0.685694\n",
       "sepal_width     0.188004\n",
       "petal_length    3.113179\n",
       "petal_width     0.582414\n",
       "dtype: float64"
      ]
     },
     "execution_count": 9,
     "metadata": {},
     "output_type": "execute_result"
    }
   ],
   "source": [
    "print('---Variance for each feature---\\n')\n",
    "data.var()"
   ]
  },
  {
   "cell_type": "markdown",
   "id": "c1c8030e",
   "metadata": {},
   "source": [
    "##### Count"
   ]
  },
  {
   "cell_type": "code",
   "execution_count": 21,
   "id": "9042973f",
   "metadata": {},
   "outputs": [
    {
     "name": "stdout",
     "output_type": "stream",
     "text": [
      "---Count for each feature---\n",
      "\n"
     ]
    },
    {
     "data": {
      "text/plain": [
       "sepal_length    150\n",
       "sepal_width     150\n",
       "petal_length    150\n",
       "petal_width     150\n",
       "class           150\n",
       "dtype: int64"
      ]
     },
     "execution_count": 21,
     "metadata": {},
     "output_type": "execute_result"
    }
   ],
   "source": [
    "print('---Count for each feature---\\n')\n",
    "data.count()"
   ]
  },
  {
   "cell_type": "markdown",
   "id": "e044eb5c",
   "metadata": {},
   "source": [
    "##### Percentile"
   ]
  },
  {
   "cell_type": "code",
   "execution_count": 11,
   "id": "737f99a8",
   "metadata": {},
   "outputs": [
    {
     "name": "stdout",
     "output_type": "stream",
     "text": [
      "---25:50:75 percentiles---\n",
      "\n"
     ]
    },
    {
     "data": {
      "text/plain": [
       "sepal_length    6.4\n",
       "sepal_width     3.3\n",
       "petal_length    5.1\n",
       "petal_width     1.8\n",
       "Name: 0.75, dtype: float64"
      ]
     },
     "execution_count": 11,
     "metadata": {},
     "output_type": "execute_result"
    }
   ],
   "source": [
    "print('---25:50:75 percentiles---\\n')\n",
    "data.quantile(q=0.25)\n",
    "data.quantile(q=0.50)\n",
    "data.quantile(q=0.75)"
   ]
  },
  {
   "cell_type": "markdown",
   "id": "8b695b34",
   "metadata": {},
   "source": [
    "### 1.2 Data Visualization"
   ]
  },
  {
   "cell_type": "markdown",
   "id": "86eb554e",
   "metadata": {},
   "source": [
    "##### Histograms"
   ]
  },
  {
   "cell_type": "code",
   "execution_count": 12,
   "id": "b6dd4066",
   "metadata": {},
   "outputs": [
    {
     "data": {
      "image/png": "[encoded data removed]",
      "text/plain": [
       "<Figure size 432x288 with 4 Axes>"
      ]
     },
     "metadata": {
      "needs_background": "light"
     },
     "output_type": "display_data"
    }
   ],
   "source": [
    "features=data[['sepal_length', 'sepal_width', 'petal_length', 'petal_width']]\n",
    "labels='sepal_length', 'sepal_width', 'petal_length', 'petal_width'\n",
    "plt.figure()\n",
    "plt.subplot(151)\n",
    "plt.hist(data['sepal_length'])\n",
    "plt.xlabel(\"sepal_length\")\n",
    "plt.subplot(152)\n",
    "plt.hist(data['sepal_width'])\n",
    "plt.xlabel(\"sepal_width\")\n",
    "plt.subplot(153)\n",
    "plt.hist(data['petal_length'])\n",
    "plt.xlabel(\"petal_length\")\n",
    "plt.subplot(154)\n",
    "plt.hist(data['petal_width'])\n",
    "plt.xlabel(\"petal_width\")\n",
    "plt.show()"
   ]
  },
  {
   "cell_type": "markdown",
   "id": "98f20b23",
   "metadata": {},
   "source": [
    "##### Box Plots "
   ]
  },
  {
   "cell_type": "code",
   "execution_count": 13,
   "id": "fc6eda19",
   "metadata": {},
   "outputs": [
    {
     "data": {
      "image/png": "[encoded data removed]",
      "text/plain": [
       "<Figure size 432x288 with 1 Axes>"
      ]
     },
     "metadata": {
      "needs_background": "light"
     },
     "output_type": "display_data"
    }
   ],
   "source": [
    "plt.figure()\n",
    "plt.boxplot([data['sepal_length'], data['sepal_width'], data['petal_length'], data['petal_width']], labels=labels)\n",
    "plt.show()"
   ]
  },
  {
   "cell_type": "markdown",
   "id": "d6451b97",
   "metadata": {},
   "source": [
    "##### Pairwise Plot "
   ]
  },
  {
   "cell_type": "code",
   "execution_count": 14,
   "id": "fcf221aa",
   "metadata": {},
   "outputs": [
    {
     "data": {
      "image/png": "[encoded data removed]",
      "text/plain": [
       "<Figure size 432x288 with 16 Axes>"
      ]
     },
     "metadata": {
      "needs_background": "light"
     },
     "output_type": "display_data"
    }
   ],
   "source": [
    "plt.figure()\n",
    "\n",
    "i=1\n",
    "for f1 in features:\n",
    "    for f2 in features:\n",
    "        plt.subplot(4,4,i)\n",
    "        i+=1\n",
    "        plt.scatter(data[f1], data[f2])\n",
    "        plt.xlabel(f1)\n",
    "        plt.ylabel(f2)\n",
    "plt.show()"
   ]
  },
  {
   "cell_type": "markdown",
   "id": "4e8649b8",
   "metadata": {},
   "source": [
    "##### Class-wise Visualization"
   ]
  },
  {
   "cell_type": "code",
   "execution_count": 15,
   "id": "732e8f0d",
   "metadata": {},
   "outputs": [
    {
     "data": {
      "image/png": "[encoded data removed]",
      "text/plain": [
       "<Figure size 432x288 with 12 Axes>"
      ]
     },
     "metadata": {
      "needs_background": "light"
     },
     "output_type": "display_data"
    }
   ],
   "source": [
    "plt.figure()\n",
    "i=1\n",
    "for f in features:\n",
    "    plt.subplot(3,4,i)\n",
    "    plt.hist(data[data['class']==\"Iris-setosa\"][f])\n",
    "    plt.ylabel(\"Iris-setosa\")\n",
    "    plt.xlabel(f)\n",
    "    plt.subplot(3,4,i+4)\n",
    "    plt.hist(data[data['class']==\"Iris-versicolor\"][f])\n",
    "    plt.ylabel(\"Iris-versicolor\")\n",
    "    plt.xlabel(f)\n",
    "    plt.subplot(3,4,i+8)\n",
    "    plt.hist(data[data['class']==\"Iris-virginica\"][f])\n",
    "    plt.ylabel(\"Iris-virginica\")\n",
    "    plt.xlabel(f)\n",
    "    i+=1\n",
    "plt.show()"
   ]
  },
  {
   "cell_type": "markdown",
   "id": "c536f6ac",
   "metadata": {},
   "source": [
    "### 1.3 Conceptual Questions "
   ]
  },
  {
   "cell_type": "markdown",
   "id": "66e7f676",
   "metadata": {},
   "source": [
    "##### 1. How many features are there? What are the Types of the features (e.g., numeric, nominal, discrete, continuous)?"
   ]
  },
  {
   "cell_type": "markdown",
   "id": "d5b36180",
   "metadata": {},
   "source": [
    "The Iris dataset has 4 features: sepal_length, sepal_width, petal_length, petal_width. All of these features are of the type numeric. "
   ]
  },
  {
   "cell_type": "markdown",
   "id": "d252dd44",
   "metadata": {},
   "source": [
    "##### From the histograms of the whole data, how do the shapes of the histograms for petal length and petal width differ from those for sepal length and sepal width? Is there a particular value of petal length (which ranges from 1.0 to 6.9) where the distribution of petal lengths (as illustrated by the histogram) could be best segmented into two parts?\n"
   ]
  },
  {
   "cell_type": "markdown",
   "id": "64d8aecd",
   "metadata": {},
   "source": [
    "The histograms for petal_length and petal_width are seen to have low values in the middle and high values at the ends. Whereas, the sepa_lenght and sepal_width have low values at the ends and high values in the middle. "
   ]
  },
  {
   "cell_type": "markdown",
   "id": "477e8b1b",
   "metadata": {},
   "source": [
    "##### Based upon these boxplots, is there a pair of features that appear to have significantly different medians? Recall that the degree of overlap between variability is an important initial indicator of the likelihood that differences in means or medians are meaningful. Also, based solely upon the box plots, which feature appears to explain the greatest amount of the data?"
   ]
  },
  {
   "cell_type": "markdown",
   "id": "61030704",
   "metadata": {},
   "source": [
    "From the boxplots, sepal_length and petal_width seem to have vastly different medians. The median for sepal_length is a little less than 6 and for petal_width is 1.5."
   ]
  },
  {
   "cell_type": "markdown",
   "id": "28f04127",
   "metadata": {},
   "source": [
    "Petal_length appears to explain the greatest amount of data."
   ]
  },
  {
   "cell_type": "markdown",
   "id": "c171ac75",
   "metadata": {},
   "source": [
    "##### From the pairwise plots of the features, which features are most correlated from the plots? Mention at least three pairs"
   ]
  },
  {
   "cell_type": "markdown",
   "id": "21f25a25",
   "metadata": {},
   "source": [
    "From the pairwise plots, 1. sepal_lengh and sepal_width 2. sepal_width and sepal_length 3. petal_width and sepal_length that have the most correlation."
   ]
  },
  {
   "cell_type": "markdown",
   "id": "0521f8a1",
   "metadata": {},
   "source": [
    "##### Compare the histograms of each class to the histograms of the whole dataset. What differences do you see in the shapes?"
   ]
  },
  {
   "cell_type": "markdown",
   "id": "b8747d3b",
   "metadata": {},
   "source": [
    "The histograms for the whole dataset are lower at the edges(right or left) and higher in the middle when compare with the dataset from each class"
   ]
  },
  {
   "cell_type": "markdown",
   "id": "50f7fe6e",
   "metadata": {},
   "source": [
    "# AIR QUALITY DATASET"
   ]
  },
  {
   "cell_type": "code",
   "execution_count": 16,
   "id": "38bd1654",
   "metadata": {},
   "outputs": [],
   "source": [
    "air = pd.read_excel('C:/Users/Ruchi/Downloads/AirQualityUCI/AirQualityUCI.xlsx')"
   ]
  },
  {
   "cell_type": "markdown",
   "id": "fb6f8f2c",
   "metadata": {},
   "source": [
    "### 2.1 Summary Statistics"
   ]
  },
  {
   "cell_type": "markdown",
   "id": "b9b4b1f7",
   "metadata": {},
   "source": [
    "##### Minimum"
   ]
  },
  {
   "cell_type": "code",
   "execution_count": 22,
   "id": "d133a77a",
   "metadata": {},
   "outputs": [
    {
     "name": "stdout",
     "output_type": "stream",
     "text": [
      "---Minimum values for each feature---\n",
      "\n"
     ]
    },
    {
     "data": {
      "text/plain": [
       "Date             2004-03-10 00:00:00\n",
       "Time                        00:00:00\n",
       "CO(GT)                        -200.0\n",
       "PT08.S1(CO)                   -200.0\n",
       "NMHC(GT)                        -200\n",
       "C6H6(GT)                      -200.0\n",
       "PT08.S2(NMHC)                 -200.0\n",
       "NOx(GT)                       -200.0\n",
       "PT08.S3(NOx)                  -200.0\n",
       "NO2(GT)                       -200.0\n",
       "PT08.S4(NO2)                  -200.0\n",
       "PT08.S5(O3)                   -200.0\n",
       "T                             -200.0\n",
       "RH                            -200.0\n",
       "AH                            -200.0\n",
       "dtype: object"
      ]
     },
     "execution_count": 22,
     "metadata": {},
     "output_type": "execute_result"
    }
   ],
   "source": [
    "print('---Minimum values for each feature---\\n')\n",
    "air.min()"
   ]
  },
  {
   "cell_type": "markdown",
   "id": "b1d37eb6",
   "metadata": {},
   "source": [
    "##### Maximum"
   ]
  },
  {
   "cell_type": "code",
   "execution_count": 23,
   "id": "8888acc9",
   "metadata": {},
   "outputs": [
    {
     "name": "stdout",
     "output_type": "stream",
     "text": [
      "---Maximum values for each feature---\n",
      "\n"
     ]
    },
    {
     "data": {
      "text/plain": [
       "Date             2005-04-04 00:00:00\n",
       "Time                        23:00:00\n",
       "CO(GT)                          11.9\n",
       "PT08.S1(CO)                  2039.75\n",
       "NMHC(GT)                        1189\n",
       "C6H6(GT)                   63.741476\n",
       "PT08.S2(NMHC)                 2214.0\n",
       "NOx(GT)                       1479.0\n",
       "PT08.S3(NOx)                 2682.75\n",
       "NO2(GT)                        339.7\n",
       "PT08.S4(NO2)                  2775.0\n",
       "PT08.S5(O3)                  2522.75\n",
       "T                               44.6\n",
       "RH                            88.725\n",
       "AH                          2.231036\n",
       "dtype: object"
      ]
     },
     "execution_count": 23,
     "metadata": {},
     "output_type": "execute_result"
    }
   ],
   "source": [
    "print('---Maximum values for each feature---\\n')\n",
    "air.max()"
   ]
  },
  {
   "cell_type": "markdown",
   "id": "b8c09786",
   "metadata": {},
   "source": [
    "##### Mean"
   ]
  },
  {
   "cell_type": "code",
   "execution_count": 24,
   "id": "4d2cdeee",
   "metadata": {},
   "outputs": [
    {
     "name": "stdout",
     "output_type": "stream",
     "text": [
      "---Mean value for each feature---\n",
      "\n"
     ]
    },
    {
     "name": "stderr",
     "output_type": "stream",
     "text": [
      "c:\\users\\ruchi\\appdata\\local\\programs\\python\\python37\\lib\\site-packages\\ipykernel_launcher.py:2: FutureWarning: DataFrame.mean and DataFrame.median with numeric_only=None will include datetime64 and datetime64tz columns in a future version.\n",
      "  \n",
      "c:\\users\\ruchi\\appdata\\local\\programs\\python\\python37\\lib\\site-packages\\ipykernel_launcher.py:2: FutureWarning: Dropping of nuisance columns in DataFrame reductions (with 'numeric_only=None') is deprecated; in a future version this will raise TypeError.  Select only valid columns before calling the reduction.\n",
      "  \n"
     ]
    },
    {
     "data": {
      "text/plain": [
       "CO(GT)            -34.207524\n",
       "PT08.S1(CO)      1048.869652\n",
       "NMHC(GT)         -159.090093\n",
       "C6H6(GT)            1.865576\n",
       "PT08.S2(NMHC)     894.475963\n",
       "NOx(GT)           168.604200\n",
       "PT08.S3(NOx)      794.872333\n",
       "NO2(GT)            58.135898\n",
       "PT08.S4(NO2)     1391.363266\n",
       "PT08.S5(O3)       974.951534\n",
       "T                   9.776600\n",
       "RH                 39.483611\n",
       "AH                 -6.837604\n",
       "dtype: float64"
      ]
     },
     "execution_count": 24,
     "metadata": {},
     "output_type": "execute_result"
    }
   ],
   "source": [
    "print('---Mean value for each feature---\\n')\n",
    "air.mean()"
   ]
  },
  {
   "cell_type": "markdown",
   "id": "f50fc69e",
   "metadata": {},
   "source": [
    "##### Range"
   ]
  },
  {
   "cell_type": "code",
   "execution_count": 30,
   "id": "2fd31edd",
   "metadata": {},
   "outputs": [
    {
     "name": "stdout",
     "output_type": "stream",
     "text": [
      "---Range for each feature---\n",
      "\n",
      "Date[2004-03-10 00:00:00,2005-04-04 00:00:00]\n",
      "Time[00:00:00,23:00:00]\n",
      "CO(GT)[-200.0,11.9]\n",
      "PT08.S1(CO)[-200.0,2039.75]\n",
      "NMHC(GT)[-200,1189]\n",
      "C6H6(GT)[-200.0,63.74147644829163]\n",
      "PT08.S2(NMHC)[-200.0,2214.0]\n",
      "NOx(GT)[-200.0,1479.0]\n",
      "PT08.S3(NOx)[-200.0,2682.75]\n",
      "NO2(GT)[-200.0,339.7]\n",
      "PT08.S4(NO2)[-200.0,2775.0]\n",
      "PT08.S5(O3)[-200.0,2522.75]\n",
      "T[-200.0,44.60000038147]\n",
      "RH[-200.0,88.72500038147]\n",
      "AH[-200.0,2.2310357155831864]\n"
     ]
    }
   ],
   "source": [
    "print('---Range for each feature---\\n')\n",
    "for item in air.columns:\n",
    "    print(item+\"[\"+str(air[item].min())+\",\"+str(air[item].max())+\"]\")"
   ]
  },
  {
   "cell_type": "markdown",
   "id": "50d3a797",
   "metadata": {},
   "source": [
    "\n",
    "##### Standard Deviation"
   ]
  },
  {
   "cell_type": "code",
   "execution_count": 25,
   "id": "96113a06",
   "metadata": {},
   "outputs": [
    {
     "name": "stdout",
     "output_type": "stream",
     "text": [
      "---Standard Deviation for each feature---\n",
      "\n"
     ]
    },
    {
     "name": "stderr",
     "output_type": "stream",
     "text": [
      "c:\\users\\ruchi\\appdata\\local\\programs\\python\\python37\\lib\\site-packages\\ipykernel_launcher.py:2: FutureWarning: Dropping of nuisance columns in DataFrame reductions (with 'numeric_only=None') is deprecated; in a future version this will raise TypeError.  Select only valid columns before calling the reduction.\n",
      "  \n"
     ]
    },
    {
     "data": {
      "text/plain": [
       "Date             112 days 13:17:28.294221482\n",
       "CO(GT)                              77.65717\n",
       "PT08.S1(CO)                       329.817015\n",
       "NMHC(GT)                          139.789093\n",
       "C6H6(GT)                           41.380154\n",
       "PT08.S2(NMHC)                     342.315902\n",
       "NOx(GT)                           257.424561\n",
       "PT08.S3(NOx)                      321.977031\n",
       "NO2(GT)                           126.931428\n",
       "PT08.S4(NO2)                      467.192382\n",
       "PT08.S5(O3)                       456.922728\n",
       "T                                  43.203438\n",
       "RH                                 51.215645\n",
       "AH                                  38.97667\n",
       "dtype: object"
      ]
     },
     "execution_count": 25,
     "metadata": {},
     "output_type": "execute_result"
    }
   ],
   "source": [
    "print('---Standard Deviation for each feature---\\n')\n",
    "air.std()"
   ]
  },
  {
   "cell_type": "markdown",
   "id": "04d113cd",
   "metadata": {},
   "source": [
    "##### Variance"
   ]
  },
  {
   "cell_type": "code",
   "execution_count": 26,
   "id": "60ae4987",
   "metadata": {},
   "outputs": [
    {
     "name": "stdout",
     "output_type": "stream",
     "text": [
      "---Variance for each feature---\n",
      "\n"
     ]
    },
    {
     "name": "stderr",
     "output_type": "stream",
     "text": [
      "c:\\users\\ruchi\\appdata\\local\\programs\\python\\python37\\lib\\site-packages\\ipykernel_launcher.py:2: FutureWarning: Dropping of nuisance columns in DataFrame reductions (with 'numeric_only=None') is deprecated; in a future version this will raise TypeError.  Select only valid columns before calling the reduction.\n",
      "  \n"
     ]
    },
    {
     "data": {
      "text/plain": [
       "CO(GT)             6030.636106\n",
       "PT08.S1(CO)      108779.263095\n",
       "NMHC(GT)          19540.990493\n",
       "C6H6(GT)           1712.317143\n",
       "PT08.S2(NMHC)    117180.176653\n",
       "NOx(GT)           66267.404793\n",
       "PT08.S3(NOx)     103669.208719\n",
       "NO2(GT)           16111.587462\n",
       "PT08.S4(NO2)     218268.721729\n",
       "PT08.S5(O3)      208778.379165\n",
       "T                  1866.537024\n",
       "RH                 2623.042273\n",
       "AH                 1519.180817\n",
       "dtype: float64"
      ]
     },
     "execution_count": 26,
     "metadata": {},
     "output_type": "execute_result"
    }
   ],
   "source": [
    "print('---Variance for each feature---\\n')\n",
    "air.var()"
   ]
  },
  {
   "cell_type": "markdown",
   "id": "77b7981e",
   "metadata": {},
   "source": [
    "##### Count "
   ]
  },
  {
   "cell_type": "code",
   "execution_count": 27,
   "id": "03a67634",
   "metadata": {},
   "outputs": [
    {
     "name": "stdout",
     "output_type": "stream",
     "text": [
      "---Count for each feature---\n",
      "\n"
     ]
    },
    {
     "data": {
      "text/plain": [
       "Date             9357\n",
       "Time             9357\n",
       "CO(GT)           9357\n",
       "PT08.S1(CO)      9357\n",
       "NMHC(GT)         9357\n",
       "C6H6(GT)         9357\n",
       "PT08.S2(NMHC)    9357\n",
       "NOx(GT)          9357\n",
       "PT08.S3(NOx)     9357\n",
       "NO2(GT)          9357\n",
       "PT08.S4(NO2)     9357\n",
       "PT08.S5(O3)      9357\n",
       "T                9357\n",
       "RH               9357\n",
       "AH               9357\n",
       "dtype: int64"
      ]
     },
     "execution_count": 27,
     "metadata": {},
     "output_type": "execute_result"
    }
   ],
   "source": [
    "print('---Count for each feature---\\n')\n",
    "air.count()"
   ]
  },
  {
   "cell_type": "markdown",
   "id": "7b27c7ba",
   "metadata": {},
   "source": [
    "##### Percentile"
   ]
  },
  {
   "cell_type": "code",
   "execution_count": 29,
   "id": "9d3c1a8f",
   "metadata": {},
   "outputs": [
    {
     "name": "stdout",
     "output_type": "stream",
     "text": [
      "---25:50:75 percentiles---\n",
      "\n"
     ]
    },
    {
     "data": {
      "text/plain": [
       "CO(GT)              2.600000\n",
       "PT08.S1(CO)      1221.250000\n",
       "NMHC(GT)         -200.000000\n",
       "C6H6(GT)           13.636091\n",
       "PT08.S2(NMHC)    1104.750000\n",
       "NOx(GT)           284.200000\n",
       "PT08.S3(NOx)      960.250000\n",
       "NO2(GT)           133.000000\n",
       "PT08.S4(NO2)     1662.000000\n",
       "PT08.S5(O3)      1255.250000\n",
       "T                  24.075000\n",
       "RH                 61.875000\n",
       "AH                  1.296223\n",
       "Name: 0.75, dtype: float64"
      ]
     },
     "execution_count": 29,
     "metadata": {},
     "output_type": "execute_result"
    }
   ],
   "source": [
    "print('---25:50:75 percentiles---\\n')\n",
    "air.quantile(q=0.25)\n",
    "air.quantile(q=0.5)\n",
    "air.quantile(q=0.75)"
   ]
  },
  {
   "cell_type": "markdown",
   "id": "69b55319",
   "metadata": {},
   "source": [
    "### 2.2 Data Visualization"
   ]
  },
  {
   "cell_type": "markdown",
   "id": "2b58f60f",
   "metadata": {},
   "source": [
    "##### Histograms"
   ]
  },
  {
   "cell_type": "code",
   "execution_count": 31,
   "id": "6c529d54",
   "metadata": {},
   "outputs": [
    {
     "data": {
      "image/png": "[encoded data removed]",
      "text/plain": [
       "<Figure size 432x288 with 13 Axes>"
      ]
     },
     "metadata": {
      "needs_background": "light"
     },
     "output_type": "display_data"
    }
   ],
   "source": [
    "plt.figure()\n",
    "i=1\n",
    "for item in air.columns[2:]:\n",
    "    plt.subplot(3,5,i)\n",
    "    plt.hist(air[item])\n",
    "    i+=1\n",
    "plt.show()"
   ]
  },
  {
   "cell_type": "markdown",
   "id": "24949196",
   "metadata": {},
   "source": [
    "##### Boxplots "
   ]
  },
  {
   "cell_type": "code",
   "execution_count": 32,
   "id": "22f326a1",
   "metadata": {},
   "outputs": [
    {
     "data": {
      "image/png": "[encoded data removed]",
      "text/plain": [
       "<Figure size 432x288 with 1 Axes>"
      ]
     },
     "metadata": {
      "needs_background": "light"
     },
     "output_type": "display_data"
    }
   ],
   "source": [
    "features=air.columns[2:]\n",
    "plt.figure()\n",
    "plt.boxplot([air[features[0]],air[features[1]],air[features[2]],air[features[3]],air[features[4]],air[features[5]],air[features[6]],air[features[7]],air[features[8]],air[features[9]],air[features[10]],air[features[11]],air[features[12]]])\n",
    "plt.show()"
   ]
  },
  {
   "cell_type": "code",
   "execution_count": 34,
   "id": "d5bc868e",
   "metadata": {},
   "outputs": [
    {
     "data": {
      "image/png": "[encoded data removed]",
      "text/plain": [
       "<Figure size 432x288 with 1 Axes>"
      ]
     },
     "metadata": {
      "needs_background": "light"
     },
     "output_type": "display_data"
    }
   ],
   "source": [
    "plt.figure()\n",
    "plt.boxplot([air[features[0]],air[features[1]],air[features[2]],air[features[3]],air[features[4]],air[features[5]],air[features[6]],air[features[7]],air[features[8]],air[features[9]],air[features[10]],air[features[11]],air[features[12]]],showfliers=False)\n",
    "plt.show()"
   ]
  },
  {
   "cell_type": "markdown",
   "id": "8434318c",
   "metadata": {},
   "source": [
    "### 2.3 Conceptual Questions"
   ]
  },
  {
   "cell_type": "markdown",
   "id": "776d1932",
   "metadata": {},
   "source": [
    "##### From the histograms, what abnormality can you see?"
   ]
  },
  {
   "cell_type": "markdown",
   "id": "8a15490d",
   "metadata": {},
   "source": [
    "Some of the histograms appear to have very high values"
   ]
  },
  {
   "cell_type": "markdown",
   "id": "b268c0ba",
   "metadata": {},
   "source": [
    "##### What abnormality can you see from the summary statistics?"
   ]
  },
  {
   "cell_type": "markdown",
   "id": "569df5b9",
   "metadata": {},
   "source": [
    "There are very high values for variance and deviation"
   ]
  },
  {
   "cell_type": "markdown",
   "id": "0cec10f8",
   "metadata": {},
   "source": [
    "##### How can you remove the abnormality from the data?"
   ]
  },
  {
   "cell_type": "markdown",
   "id": "0fcf6187",
   "metadata": {},
   "source": [
    "By using the box chart approach, outliers will be exceeding the upper quartile by 1.5 times the distance"
   ]
  },
  {
   "cell_type": "markdown",
   "id": "21ebea19",
   "metadata": {},
   "source": [
    "#####  Show how the histograms look after removing the abnormalities from the data?"
   ]
  },
  {
   "cell_type": "code",
   "execution_count": 35,
   "id": "db092df6",
   "metadata": {},
   "outputs": [
    {
     "name": "stderr",
     "output_type": "stream",
     "text": [
      "c:\\users\\ruchi\\appdata\\local\\programs\\python\\python37\\lib\\site-packages\\ipykernel_launcher.py:6: FutureWarning: DataFrame.mean and DataFrame.median with numeric_only=None will include datetime64 and datetime64tz columns in a future version.\n",
      "  \n",
      "c:\\users\\ruchi\\appdata\\local\\programs\\python\\python37\\lib\\site-packages\\ipykernel_launcher.py:6: FutureWarning: Dropping of nuisance columns in DataFrame reductions (with 'numeric_only=None') is deprecated; in a future version this will raise TypeError.  Select only valid columns before calling the reduction.\n",
      "  \n"
     ]
    }
   ],
   "source": [
    "import numpy as np\n",
    "for item in air.columns[2:]:\n",
    "    a = air[item].quantile(0.75)\n",
    "    b = air[item].quantile(0.25)\n",
    "air[(air[item]>=(a-b)*1.5+a)|(air[item]<=b-(a-b)*1.5)]=np.nan\n",
    "air.fillna(air.median(),inplace=True)"
   ]
  },
  {
   "cell_type": "code",
   "execution_count": 36,
   "id": "d1894e18",
   "metadata": {},
   "outputs": [
    {
     "data": {
      "image/png": "[encoded data removed]",
      "text/plain": [
       "<Figure size 432x288 with 13 Axes>"
      ]
     },
     "metadata": {
      "needs_background": "light"
     },
     "output_type": "display_data"
    }
   ],
   "source": [
    "i=1\n",
    "for item in air.columns[2:]:\n",
    "    plt.subplot(3,5,i)\n",
    "    plt.hist(air[item])\n",
    "    i+=1\n",
    "plt.show()"
   ]
  }
 ],
 "metadata": {
  "kernelspec": {
   "display_name": "Python 3 (ipykernel)",
   "language": "python",
   "name": "python3"
  },
  "language_info": {
   "codemirror_mode": {
    "name": "ipython",
    "version": 3
   },
   "file_extension": ".py",
   "mimetype": "text/x-python",
   "name": "python",
   "nbconvert_exporter": "python",
   "pygments_lexer": "ipython3",
   "version": "3.7.7"
  }
 },
 "nbformat": 4,
 "nbformat_minor": 5
}
