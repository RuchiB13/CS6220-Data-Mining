{
  "nbformat": 4,
  "nbformat_minor": 0,
  "metadata": {
    "colab": {
      "name": "DM-Assignment8.ipynb",
      "provenance": []
    },
    "kernelspec": {
      "name": "python3",
      "display_name": "Python 3"
    },
    "language_info": {
      "name": "python"
    }
  },
  "cells": [
    {
      "cell_type": "code",
      "execution_count": 1,
      "metadata": {
        "id": "ckYwddXz4Jsq"
      },
      "outputs": [],
      "source": [
        "import matplotlib.pyplot as plt\n",
        "from sklearn.datasets import load_boston\n",
        "from sklearn.model_selection import train_test_split\n",
        "from sklearn.tree import DecisionTreeClassifier,plot_tree"
      ]
    },
    {
      "cell_type": "code",
      "source": [
        "data = load_boston()\n",
        "X = data.data\n",
        "y = data.target"
      ],
      "metadata": {
        "colab": {
          "base_uri": "https://localhost:8080/"
        },
        "id": "At5ICjoMJylA",
        "outputId": "6da48819-1af4-4156-bf7d-d0c8fe39176b"
      },
      "execution_count": 2,
      "outputs": [
        {
          "output_type": "stream",
          "name": "stderr",
          "text": [
            "/usr/local/lib/python3.7/dist-packages/sklearn/utils/deprecation.py:87: FutureWarning: Function load_boston is deprecated; `load_boston` is deprecated in 1.0 and will be removed in 1.2.\n",
            "\n",
            "    The Boston housing prices dataset has an ethical problem. You can refer to\n",
            "    the documentation of this function for further details.\n",
            "\n",
            "    The scikit-learn maintainers therefore strongly discourage the use of this\n",
            "    dataset unless the purpose of the code is to study and educate about\n",
            "    ethical issues in data science and machine learning.\n",
            "\n",
            "    In this special case, you can fetch the dataset from the original\n",
            "    source::\n",
            "\n",
            "        import pandas as pd\n",
            "        import numpy as np\n",
            "\n",
            "\n",
            "        data_url = \"http://lib.stat.cmu.edu/datasets/boston\"\n",
            "        raw_df = pd.read_csv(data_url, sep=\"\\s+\", skiprows=22, header=None)\n",
            "        data = np.hstack([raw_df.values[::2, :], raw_df.values[1::2, :2]])\n",
            "        target = raw_df.values[1::2, 2]\n",
            "\n",
            "    Alternative datasets include the California housing dataset (i.e.\n",
            "    :func:`~sklearn.datasets.fetch_california_housing`) and the Ames housing\n",
            "    dataset. You can load the datasets as follows::\n",
            "\n",
            "        from sklearn.datasets import fetch_california_housing\n",
            "        housing = fetch_california_housing()\n",
            "\n",
            "    for the California housing dataset and::\n",
            "\n",
            "        from sklearn.datasets import fetch_openml\n",
            "        housing = fetch_openml(name=\"house_prices\", as_frame=True)\n",
            "\n",
            "    for the Ames housing dataset.\n",
            "    \n",
            "  warnings.warn(msg, category=FutureWarning)\n"
          ]
        }
      ]
    },
    {
      "cell_type": "code",
      "source": [
        "import pandas as pd"
      ],
      "metadata": {
        "id": "mJHd60xOKf84"
      },
      "execution_count": 3,
      "outputs": []
    },
    {
      "cell_type": "code",
      "source": [
        "y = list(y)\n",
        "for i in range(len(y)):\n",
        "  idx = y.index(min(y))\n",
        "  if i < len(y)/3:\n",
        "    y[idx] = 100\n",
        "  elif i > len(y)/3 and i < 2*(len(y)/3):\n",
        "    y[idx] = 200\n",
        "  else:\n",
        "    y[idx] = 300\n",
        "\n",
        "def split_equally(y):\n",
        "  if y == 100:\n",
        "    return 0\n",
        "  elif y == 200:\n",
        "    return 1\n",
        "  else:\n",
        "    return 2\n",
        "\n",
        "y_data = list(map(split_equally, y))"
      ],
      "metadata": {
        "id": "ej0iAVrGRnyY"
      },
      "execution_count": 4,
      "outputs": []
    },
    {
      "cell_type": "code",
      "source": [
        "X = pd.DataFrame(X)\n",
        "y = pd.DataFrame(y_data)"
      ],
      "metadata": {
        "id": "601Vw-P7R2J7"
      },
      "execution_count": 5,
      "outputs": []
    },
    {
      "cell_type": "code",
      "source": [
        "#1. Split the data in 70/30 \n",
        "X_train, X_test, y_train, y_test = train_test_split(X, y, test_size = 0.3)"
      ],
      "metadata": {
        "id": "y01KTJ4SScQT"
      },
      "execution_count": 6,
      "outputs": []
    },
    {
      "cell_type": "code",
      "source": [
        "#2. Use Decision Tree Classifier. Train a supervised learning model to generate predictions.\n",
        "dt = DecisionTreeClassifier()\n",
        "dt = dt.fit(X_train, y_train)\n",
        "predict = dt.predict(X_test)"
      ],
      "metadata": {
        "id": "YQxP7uo_WWp3"
      },
      "execution_count": 7,
      "outputs": []
    },
    {
      "cell_type": "code",
      "source": [
        "#3. Report the tree depth, number of leaves, feature importance, train score and test score\n",
        "Td = dt.get_depth()\n",
        "print(\"The depth of the tree : \", Td)\n",
        "print(\"\\nNumber of leaves : \", dt.get_n_leaves())\n",
        "print(\"\\nFeature Importance : \", dt.feature_importances_)\n",
        "print(\"\\nTrain Score : \", dt.score(X_train, y_train))\n",
        "print(\"\\nTest Score : \", dt.score(X_test, y_test))"
      ],
      "metadata": {
        "id": "FeT4asIQU3F1",
        "colab": {
          "base_uri": "https://localhost:8080/"
        },
        "outputId": "4a004934-1d46-47a2-9d4d-1e096ced95a0"
      },
      "execution_count": 8,
      "outputs": [
        {
          "output_type": "stream",
          "name": "stdout",
          "text": [
            "The depth of the tree :  13\n",
            "\n",
            "Number of leaves :  62\n",
            "\n",
            "Feature Importance :  [0.07152736 0.         0.05491654 0.00636614 0.05510525 0.26071412\n",
            " 0.07746326 0.03779531 0.02088058 0.01450709 0.01480504 0.06238938\n",
            " 0.32352992]\n",
            "\n",
            "Train Score :  1.0\n",
            "\n",
            "Test Score :  0.6776315789473685\n"
          ]
        }
      ]
    },
    {
      "cell_type": "code",
      "source": [
        "#4. Show visual output\n",
        "plt.figure()\n",
        "plot_tree(dt, feature_names= y_data, class_names=True, filled=True)\n",
        "plt.show()"
      ],
      "metadata": {
        "id": "xEXcuZdiWGFP",
        "colab": {
          "base_uri": "https://localhost:8080/",
          "height": 248
        },
        "outputId": "8238cc5d-76bd-4ccc-e019-6ed9e5c4ce79"
      },
      "execution_count": 9,
      "outputs": [
        {
          "output_type": "display_data",
          "data": {
            "text/plain": [
              "<Figure size 432x288 with 1 Axes>"
            ],
            "image/png": "[encoded data removed]"
          },
          "metadata": {
            "needs_background": "light"
          }
        }
      ]
    },
    {
      "cell_type": "code",
      "source": [
        "#5. Generate Td-1 decision tree on same training set. \n",
        "#6. For each (Td-1) report the scores\n",
        "\n",
        "td_max = 0\n",
        "dt_max = dt.fit(X_train, y_train)\n",
        "for d in range(1, Td):\n",
        "  dt = DecisionTreeClassifier(max_depth=d)\n",
        "  dt = dt.fit(X_train, y_train)\n",
        "  dt_predict = dt.predict(X_test)\n",
        "  print(\"The depth of the tree : \", d)\n",
        "  print(\"\\nNumber of leaves : \", dt.get_n_leaves())\n",
        "  print(\"\\nFeature Importance : \", dt.feature_importances_)\n",
        "  print(\"\\nTrain Score : \", dt.score(X_train, y_train))\n",
        "  print(\"\\nTest Score : \", dt.score(X_test, y_test))\n",
        "  if td_max < dt.score(X_test, y_test):\n",
        "        td_max=dt.score(X_test, y_test)\n",
        "        dt_max=dt\n"
      ],
      "metadata": {
        "id": "XI_9Rv6oWzzR",
        "colab": {
          "base_uri": "https://localhost:8080/"
        },
        "outputId": "36b60963-f08e-456e-9527-f972bf8b74f0"
      },
      "execution_count": 10,
      "outputs": [
        {
          "output_type": "stream",
          "name": "stdout",
          "text": [
            "The depth of the tree :  1\n",
            "\n",
            "Number of leaves :  2\n",
            "\n",
            "Feature Importance :  [0. 0. 0. 0. 0. 0. 0. 0. 0. 0. 0. 0. 1.]\n",
            "\n",
            "Train Score :  0.5932203389830508\n",
            "\n",
            "Test Score :  0.631578947368421\n",
            "The depth of the tree :  2\n",
            "\n",
            "Number of leaves :  4\n",
            "\n",
            "Feature Importance :  [0.         0.         0.         0.         0.07577166 0.38065911\n",
            " 0.         0.         0.         0.         0.         0.\n",
            " 0.54356923]\n",
            "\n",
            "Train Score :  0.7824858757062146\n",
            "\n",
            "Test Score :  0.7236842105263158\n",
            "The depth of the tree :  3\n",
            "\n",
            "Number of leaves :  8\n",
            "\n",
            "Feature Importance :  [0.         0.         0.         0.         0.06658292 0.33449703\n",
            " 0.07117803 0.02511351 0.         0.         0.02497727 0.\n",
            " 0.47765124]\n",
            "\n",
            "Train Score :  0.8305084745762712\n",
            "\n",
            "Test Score :  0.756578947368421\n",
            "The depth of the tree :  4\n",
            "\n",
            "Number of leaves :  14\n",
            "\n",
            "Feature Importance :  [0.01371437 0.         0.01850522 0.         0.05978052 0.31588107\n",
            " 0.06390617 0.03465203 0.         0.01168839 0.02242548 0.03059443\n",
            " 0.42885232]\n",
            "\n",
            "Train Score :  0.8531073446327684\n",
            "\n",
            "Test Score :  0.7171052631578947\n",
            "The depth of the tree :  5\n",
            "\n",
            "Number of leaves :  22\n",
            "\n",
            "Feature Importance :  [0.01231164 0.         0.05045395 0.         0.06443873 0.29859543\n",
            " 0.06775766 0.03620758 0.         0.01049288 0.02013176 0.02746517\n",
            " 0.41214522]\n",
            "\n",
            "Train Score :  0.8870056497175142\n",
            "\n",
            "Test Score :  0.743421052631579\n",
            "The depth of the tree :  6\n",
            "\n",
            "Number of leaves :  32\n",
            "\n",
            "Feature Importance :  [0.02930049 0.         0.06101882 0.         0.07370269 0.27201969\n",
            " 0.06172706 0.02308595 0.00080569 0.02287783 0.0341123  0.03748064\n",
            " 0.38386884]\n",
            "\n",
            "Train Score :  0.9209039548022598\n",
            "\n",
            "Test Score :  0.7236842105263158\n",
            "The depth of the tree :  7\n",
            "\n",
            "Number of leaves :  42\n",
            "\n",
            "Feature Importance :  [0.04125785 0.         0.05609103 0.00724929 0.08329401 0.2623536\n",
            " 0.07777233 0.02122156 0.00879538 0.00878701 0.03135744 0.04411947\n",
            " 0.35770102]\n",
            "\n",
            "Train Score :  0.9519774011299436\n",
            "\n",
            "Test Score :  0.7039473684210527\n",
            "The depth of the tree :  8\n",
            "\n",
            "Number of leaves :  47\n",
            "\n",
            "Feature Importance :  [0.07158943 0.         0.05453565 0.         0.072137   0.27700657\n",
            " 0.05525407 0.03223444 0.01262382 0.01559162 0.02422279 0.04172135\n",
            " 0.34308326]\n",
            "\n",
            "Train Score :  0.9548022598870056\n",
            "\n",
            "Test Score :  0.7105263157894737\n",
            "The depth of the tree :  9\n",
            "\n",
            "Number of leaves :  52\n",
            "\n",
            "Feature Importance :  [0.03862637 0.         0.06250939 0.         0.06543243 0.27412317\n",
            " 0.06024086 0.03188948 0.01554409 0.00827201 0.03428585 0.0700652\n",
            " 0.33901115]\n",
            "\n",
            "Train Score :  0.9661016949152542\n",
            "\n",
            "Test Score :  0.7039473684210527\n",
            "The depth of the tree :  10\n",
            "\n",
            "Number of leaves :  56\n",
            "\n",
            "Feature Importance :  [0.03559486 0.         0.0608364  0.00664176 0.07012338 0.25763571\n",
            " 0.0775699  0.03000842 0.01512807 0.01926782 0.03336823 0.04595686\n",
            " 0.3478686 ]\n",
            "\n",
            "Train Score :  0.9774011299435028\n",
            "\n",
            "Test Score :  0.6973684210526315\n",
            "The depth of the tree :  11\n",
            "\n",
            "Number of leaves :  59\n",
            "\n",
            "Feature Importance :  [0.06505819 0.         0.05010841 0.         0.08225974 0.27068523\n",
            " 0.07880101 0.04097849 0.02052162 0.01504545 0.01506072 0.04624959\n",
            " 0.31523155]\n",
            "\n",
            "Train Score :  0.9915254237288136\n",
            "\n",
            "Test Score :  0.7039473684210527\n",
            "The depth of the tree :  12\n",
            "\n",
            "Number of leaves :  60\n",
            "\n",
            "Feature Importance :  [0.05585735 0.00640237 0.06504604 0.00640237 0.05569495 0.26049054\n",
            " 0.0756277  0.0511773  0.00748329 0.00776045 0.02712494 0.05932984\n",
            " 0.32160283]\n",
            "\n",
            "Train Score :  0.9971751412429378\n",
            "\n",
            "Test Score :  0.6842105263157895\n"
          ]
        }
      ]
    },
    {
      "cell_type": "code",
      "source": [
        "#7. Visualize\n",
        "import graphviz\n",
        "from sklearn import tree\n",
        "from io import StringIO\n",
        "import pydotplus\n",
        "from IPython.display import Image\n",
        "\n",
        "def visualize_tree(dt, feature_name):\n",
        "  dot_data = StringIO()\n",
        "  tree.export_graphviz(dt, out_file=dot_data, feature_names = feature_name, \n",
        "                       class_names=True, filled = True,\n",
        "                       rounded = True, special_characters=True)\n",
        "  graph = pydotplus.graph_from_dot_data(dot_data(dot_data.getvalue()))\n",
        "  return Image(graph.create_png())\n",
        "\n"
      ],
      "metadata": {
        "id": "Uvq5DzsTX8ZL"
      },
      "execution_count": 28,
      "outputs": []
    },
    {
      "cell_type": "code",
      "source": [
        "visualize_tree(dt, y_data)"
      ],
      "metadata": {
        "id": "t7Wi0WGpX8_5",
        "colab": {
          "base_uri": "https://localhost:8080/",
          "height": 320
        },
        "outputId": "fa1f2946-ad81-4d0c-f0cc-8d463ba8bd03"
      },
      "execution_count": 31,
      "outputs": [
        {
          "output_type": "error",
          "ename": "ValueError",
          "evalue": "ignored",
          "traceback": [
            "\u001b[0;31m---------------------------------------------------------------------------\u001b[0m",
            "\u001b[0;31mValueError\u001b[0m                                Traceback (most recent call last)",
            "\u001b[0;32m<ipython-input-31-b439c89ed8bb>\u001b[0m in \u001b[0;36m<module>\u001b[0;34m()\u001b[0m\n\u001b[0;32m----> 1\u001b[0;31m \u001b[0mvisualize_tree\u001b[0m\u001b[0;34m(\u001b[0m\u001b[0mdt\u001b[0m\u001b[0;34m,\u001b[0m \u001b[0my_data\u001b[0m\u001b[0;34m)\u001b[0m\u001b[0;34m\u001b[0m\u001b[0;34m\u001b[0m\u001b[0m\n\u001b[0m",
            "\u001b[0;32m<ipython-input-28-c3685632e5f0>\u001b[0m in \u001b[0;36mvisualize_tree\u001b[0;34m(dt, feature_name)\u001b[0m\n\u001b[1;32m     10\u001b[0m   tree.export_graphviz(dt, out_file=dot_data, feature_names = feature_name, \n\u001b[1;32m     11\u001b[0m                        \u001b[0mclass_names\u001b[0m\u001b[0;34m=\u001b[0m\u001b[0;32mTrue\u001b[0m\u001b[0;34m,\u001b[0m \u001b[0mfilled\u001b[0m \u001b[0;34m=\u001b[0m \u001b[0;32mTrue\u001b[0m\u001b[0;34m,\u001b[0m\u001b[0;34m\u001b[0m\u001b[0;34m\u001b[0m\u001b[0m\n\u001b[0;32m---> 12\u001b[0;31m                        rounded = True, special_characters=True)\n\u001b[0m\u001b[1;32m     13\u001b[0m   \u001b[0mgraph\u001b[0m \u001b[0;34m=\u001b[0m \u001b[0mpydotplus\u001b[0m\u001b[0;34m.\u001b[0m\u001b[0mgraph_from_dot_data\u001b[0m\u001b[0;34m(\u001b[0m\u001b[0mdot_data\u001b[0m\u001b[0;34m(\u001b[0m\u001b[0mdot_data\u001b[0m\u001b[0;34m.\u001b[0m\u001b[0mgetvalue\u001b[0m\u001b[0;34m(\u001b[0m\u001b[0;34m)\u001b[0m\u001b[0;34m)\u001b[0m\u001b[0;34m)\u001b[0m\u001b[0;34m\u001b[0m\u001b[0;34m\u001b[0m\u001b[0m\n\u001b[1;32m     14\u001b[0m   \u001b[0;32mreturn\u001b[0m \u001b[0mImage\u001b[0m\u001b[0;34m(\u001b[0m\u001b[0mgraph\u001b[0m\u001b[0;34m.\u001b[0m\u001b[0mcreate_png\u001b[0m\u001b[0;34m(\u001b[0m\u001b[0;34m)\u001b[0m\u001b[0;34m)\u001b[0m\u001b[0;34m\u001b[0m\u001b[0;34m\u001b[0m\u001b[0m\n",
            "\u001b[0;32m/usr/local/lib/python3.7/dist-packages/sklearn/tree/_export.py\u001b[0m in \u001b[0;36mexport_graphviz\u001b[0;34m(decision_tree, out_file, max_depth, feature_names, class_names, label, filled, leaves_parallel, impurity, node_ids, proportion, rotate, rounded, special_characters, precision, fontname)\u001b[0m\n\u001b[1;32m    887\u001b[0m             \u001b[0mfontname\u001b[0m\u001b[0;34m=\u001b[0m\u001b[0mfontname\u001b[0m\u001b[0;34m,\u001b[0m\u001b[0;34m\u001b[0m\u001b[0;34m\u001b[0m\u001b[0m\n\u001b[1;32m    888\u001b[0m         )\n\u001b[0;32m--> 889\u001b[0;31m         \u001b[0mexporter\u001b[0m\u001b[0;34m.\u001b[0m\u001b[0mexport\u001b[0m\u001b[0;34m(\u001b[0m\u001b[0mdecision_tree\u001b[0m\u001b[0;34m)\u001b[0m\u001b[0;34m\u001b[0m\u001b[0;34m\u001b[0m\u001b[0m\n\u001b[0m\u001b[1;32m    890\u001b[0m \u001b[0;34m\u001b[0m\u001b[0m\n\u001b[1;32m    891\u001b[0m         \u001b[0;32mif\u001b[0m \u001b[0mreturn_string\u001b[0m\u001b[0;34m:\u001b[0m\u001b[0;34m\u001b[0m\u001b[0;34m\u001b[0m\u001b[0m\n",
            "\u001b[0;32m/usr/local/lib/python3.7/dist-packages/sklearn/tree/_export.py\u001b[0m in \u001b[0;36mexport\u001b[0;34m(self, decision_tree)\u001b[0m\n\u001b[1;32m    452\u001b[0m                 raise ValueError(\n\u001b[1;32m    453\u001b[0m                     \u001b[0;34m\"Length of feature_names, %d does not match number of features, %d\"\u001b[0m\u001b[0;34m\u001b[0m\u001b[0;34m\u001b[0m\u001b[0m\n\u001b[0;32m--> 454\u001b[0;31m                     \u001b[0;34m%\u001b[0m \u001b[0;34m(\u001b[0m\u001b[0mlen\u001b[0m\u001b[0;34m(\u001b[0m\u001b[0mself\u001b[0m\u001b[0;34m.\u001b[0m\u001b[0mfeature_names\u001b[0m\u001b[0;34m)\u001b[0m\u001b[0;34m,\u001b[0m \u001b[0mdecision_tree\u001b[0m\u001b[0;34m.\u001b[0m\u001b[0mn_features_in_\u001b[0m\u001b[0;34m)\u001b[0m\u001b[0;34m\u001b[0m\u001b[0;34m\u001b[0m\u001b[0m\n\u001b[0m\u001b[1;32m    455\u001b[0m                 )\n\u001b[1;32m    456\u001b[0m         \u001b[0;31m# each part writes to out_file\u001b[0m\u001b[0;34m\u001b[0m\u001b[0;34m\u001b[0m\u001b[0;34m\u001b[0m\u001b[0m\n",
            "\u001b[0;31mValueError\u001b[0m: Length of feature_names, 506 does not match number of features, 13"
          ]
        }
      ]
    },
    {
      "cell_type": "code",
      "source": [
        "print(\"Highest test score with depth\",dt_max.get_depth())\n",
        "plt.figure()\n",
        "plot_tree(dt_max, feature_names=y_data,class_names=True,filled=True)\n",
        "plt.show()"
      ],
      "metadata": {
        "colab": {
          "base_uri": "https://localhost:8080/",
          "height": 266
        },
        "id": "Xf53OVfDJZZT",
        "outputId": "1adf3470-f5a1-427b-be30-0572fdb65ce1"
      },
      "execution_count": 32,
      "outputs": [
        {
          "output_type": "stream",
          "name": "stdout",
          "text": [
            "Highest test score with depth 3\n"
          ]
        },
        {
          "output_type": "display_data",
          "data": {
            "text/plain": [
              "<Figure size 432x288 with 1 Axes>"
            ],
            "image/png": "[encoded data removed]"
          },
          "metadata": {
            "needs_background": "light"
          }
        }
      ]
    },
    {
      "cell_type": "code",
      "source": [
        ""
      ],
      "metadata": {
        "id": "9ytMKbktSwXm"
      },
      "execution_count": null,
      "outputs": []
    }
  ]
}